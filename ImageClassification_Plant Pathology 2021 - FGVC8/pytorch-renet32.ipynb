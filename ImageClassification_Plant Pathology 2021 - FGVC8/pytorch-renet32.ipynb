{
 "cells": [
  {
   "cell_type": "code",
   "execution_count": 1,
   "metadata": {
    "_cell_guid": "b1076dfc-b9ad-4769-8c92-a6c4dae69d19",
    "_uuid": "8f2839f25d086af736a60e9eeb907d3b93b6e0e5",
    "execution": {
     "iopub.execute_input": "2021-03-23T13:37:35.945144Z",
     "iopub.status.busy": "2021-03-23T13:37:35.944575Z",
     "iopub.status.idle": "2021-03-23T13:37:35.951133Z",
     "shell.execute_reply": "2021-03-23T13:37:35.950620Z"
    },
    "papermill": {
     "duration": 0.020631,
     "end_time": "2021-03-23T13:37:35.951284",
     "exception": false,
     "start_time": "2021-03-23T13:37:35.930653",
     "status": "completed"
    },
    "tags": []
   },
   "outputs": [
    {
     "data": {
      "text/plain": [
       "\"\\nfor dirname, _, filenames in os.walk('/kaggle/input'):\\n    for filename in filenames:\\n        print(os.path.join(dirname, filename))\\n\""
      ]
     },
     "execution_count": 1,
     "metadata": {},
     "output_type": "execute_result"
    }
   ],
   "source": [
    "# This Python 3 environment comes with many helpful analytics libraries installed\n",
    "# It is defined by the kaggle/python Docker image: https://github.com/kaggle/docker-python\n",
    "# For example, here's several helpful packages to load\n",
    "\n",
    "import numpy as np # linear algebra\n",
    "import pandas as pd # data processing, CSV file I/O (e.g. pd.read_csv)\n",
    "\n",
    "# Input data files are available in the read-only \"../input/\" directory\n",
    "# For example, running this (by clicking run or pressing Shift+Enter) will list all files under the input directory\n",
    "\n",
    "import os\n",
    "'''\n",
    "for dirname, _, filenames in os.walk('/kaggle/input'):\n",
    "    for filename in filenames:\n",
    "        print(os.path.join(dirname, filename))\n",
    "'''\n",
    "# You can write up to 20GB to the current directory (/kaggle/working/) that gets preserved as output when you create a version using \"Save & Run All\" \n",
    "# You can also write temporary files to /kaggle/temp/, but they won't be saved outside of the current session"
   ]
  },
  {
   "cell_type": "code",
   "execution_count": 2,
   "metadata": {
    "execution": {
     "iopub.execute_input": "2021-03-23T13:37:35.969896Z",
     "iopub.status.busy": "2021-03-23T13:37:35.969417Z",
     "iopub.status.idle": "2021-03-23T13:37:36.019241Z",
     "shell.execute_reply": "2021-03-23T13:37:36.019646Z"
    },
    "papermill": {
     "duration": 0.061643,
     "end_time": "2021-03-23T13:37:36.019778",
     "exception": false,
     "start_time": "2021-03-23T13:37:35.958135",
     "status": "completed"
    },
    "tags": []
   },
   "outputs": [
    {
     "data": {
      "text/html": [
       "<div>\n",
       "<style scoped>\n",
       "    .dataframe tbody tr th:only-of-type {\n",
       "        vertical-align: middle;\n",
       "    }\n",
       "\n",
       "    .dataframe tbody tr th {\n",
       "        vertical-align: top;\n",
       "    }\n",
       "\n",
       "    .dataframe thead th {\n",
       "        text-align: right;\n",
       "    }\n",
       "</style>\n",
       "<table border=\"1\" class=\"dataframe\">\n",
       "  <thead>\n",
       "    <tr style=\"text-align: right;\">\n",
       "      <th></th>\n",
       "      <th>image</th>\n",
       "      <th>labels</th>\n",
       "    </tr>\n",
       "  </thead>\n",
       "  <tbody>\n",
       "    <tr>\n",
       "      <th>0</th>\n",
       "      <td>800113bb65efe69e.jpg</td>\n",
       "      <td>healthy</td>\n",
       "    </tr>\n",
       "    <tr>\n",
       "      <th>1</th>\n",
       "      <td>8002cb321f8bfcdf.jpg</td>\n",
       "      <td>scab frog_eye_leaf_spot complex</td>\n",
       "    </tr>\n",
       "    <tr>\n",
       "      <th>2</th>\n",
       "      <td>80070f7fb5e2ccaa.jpg</td>\n",
       "      <td>scab</td>\n",
       "    </tr>\n",
       "    <tr>\n",
       "      <th>3</th>\n",
       "      <td>80077517781fb94f.jpg</td>\n",
       "      <td>scab</td>\n",
       "    </tr>\n",
       "    <tr>\n",
       "      <th>4</th>\n",
       "      <td>800cbf0ff87721f8.jpg</td>\n",
       "      <td>complex</td>\n",
       "    </tr>\n",
       "  </tbody>\n",
       "</table>\n",
       "</div>"
      ],
      "text/plain": [
       "                  image                           labels\n",
       "0  800113bb65efe69e.jpg                          healthy\n",
       "1  8002cb321f8bfcdf.jpg  scab frog_eye_leaf_spot complex\n",
       "2  80070f7fb5e2ccaa.jpg                             scab\n",
       "3  80077517781fb94f.jpg                             scab\n",
       "4  800cbf0ff87721f8.jpg                          complex"
      ]
     },
     "execution_count": 2,
     "metadata": {},
     "output_type": "execute_result"
    }
   ],
   "source": [
    "#load train.csv\n",
    "\n",
    "train_df = pd.read_csv('../input/plant-pathology-2021-fgvc8/train.csv')\n",
    "train_df.head(5)"
   ]
  },
  {
   "cell_type": "code",
   "execution_count": 3,
   "metadata": {
    "execution": {
     "iopub.execute_input": "2021-03-23T13:37:36.039517Z",
     "iopub.status.busy": "2021-03-23T13:37:36.038630Z",
     "iopub.status.idle": "2021-03-23T13:37:37.104672Z",
     "shell.execute_reply": "2021-03-23T13:37:37.104023Z"
    },
    "papermill": {
     "duration": 1.078347,
     "end_time": "2021-03-23T13:37:37.104797",
     "exception": false,
     "start_time": "2021-03-23T13:37:36.026450",
     "status": "completed"
    },
    "tags": []
   },
   "outputs": [
    {
     "name": "stdout",
     "output_type": "stream",
     "text": [
      "{0: 'cider_apple_rust', 1: 'complex', 2: 'frog_eye_leaf_spot', 3: 'frog_eye_leaf_spot complex', 4: 'healthy', 5: 'powdery_mildew', 6: 'powdery_mildew complex', 7: 'rust complex', 8: 'rust frog_eye_leaf_spot', 9: 'scab', 10: 'scab frog_eye_leaf_spot', 11: 'scab frog_eye_leaf_spot complex'}\n",
      "(18632,)\n"
     ]
    }
   ],
   "source": [
    "#문자 라벨을 숫자 라벨로 변환\n",
    "#make string label to numeric label\n",
    "from sklearn.preprocessing import LabelEncoder\n",
    "\n",
    "label = LabelEncoder()\n",
    "label.fit(train_df['labels'])\n",
    "train_df['label_id'] = label.transform(train_df['labels'])\n",
    "label_dic = dict(sorted(train_df[['label_id', 'labels']].values.tolist())) #save for submission\n",
    "print(label_dic)\n",
    "classes = len(train_df['labels'].value_counts()) #12\n",
    "\n",
    "del train_df['labels'] #we don't need this Series anymore\n",
    "\n",
    "image_names = np.array(train_df['image'].values)\n",
    "image_labels = np.array(train_df['label_id'].values)\n",
    "\n",
    "print(image_names.shape) #18632"
   ]
  },
  {
   "cell_type": "code",
   "execution_count": 4,
   "metadata": {
    "execution": {
     "iopub.execute_input": "2021-03-23T13:37:37.128674Z",
     "iopub.status.busy": "2021-03-23T13:37:37.128048Z",
     "iopub.status.idle": "2021-03-23T13:37:39.855554Z",
     "shell.execute_reply": "2021-03-23T13:37:39.854518Z"
    },
    "papermill": {
     "duration": 2.743491,
     "end_time": "2021-03-23T13:37:39.855699",
     "exception": false,
     "start_time": "2021-03-23T13:37:37.112208",
     "status": "completed"
    },
    "tags": []
   },
   "outputs": [],
   "source": [
    "import matplotlib.pyplot as plt\n",
    "from glob import glob\n",
    "import cv2, torch\n",
    "import torchvision.transforms as transforms\n",
    "from tqdm.notebook import tqdm\n",
    "from torch.utils.data import Dataset, DataLoader\n",
    "\n",
    "device = torch.device('cuda' if torch.cuda.is_available else 'cpu')\n",
    "\n",
    "transform = transforms.Compose(\n",
    "    [transforms.ToTensor(),\n",
    "    transforms.Resize((224, 224)),\n",
    "    transforms.Normalize((0.5, 0.5, 0.5), (0.5, 0.5, 0.5))])\n",
    "\n",
    "#커스텀 데이터셋 설정\n",
    "#dataset and dataloader for train\n",
    "class dataset(Dataset) :\n",
    "    def __init__(self, image_list, image_names, image_labels, transform, device) :\n",
    "        self.image_list = image_list\n",
    "        self.image_names = image_names\n",
    "        self.image_labels = image_labels\n",
    "        self.transform = transform\n",
    "    \n",
    "    def __len__(self) :\n",
    "        return len(self.image_list)\n",
    "    \n",
    "    def __getitem__(self, index) :\n",
    "        x = cv2.imread(self.image_list[index])\n",
    "        x = self.transform(x).to(device)\n",
    "        \n",
    "        image_name = image_list[index][49:]\n",
    "        y = self.image_labels[np.where(image_names == image_name)]\n",
    "        y = torch.LongTensor([y,]).to(device)\n",
    "        \n",
    "        return x, y\n",
    "\n",
    "\n",
    "#load train_images\n",
    "image_list = glob('../input/plant-pathology-2021-fgvc8/train_images/*.jpg')\n",
    "\n",
    "\n",
    "train_data = dataset(image_list, image_names, image_labels, transform, device)\n",
    "train_data = DataLoader(train_data, batch_size = 32, shuffle = True)"
   ]
  },
  {
   "cell_type": "code",
   "execution_count": 5,
   "metadata": {
    "execution": {
     "iopub.execute_input": "2021-03-23T13:37:39.874717Z",
     "iopub.status.busy": "2021-03-23T13:37:39.873879Z",
     "iopub.status.idle": "2021-03-23T13:37:39.876051Z",
     "shell.execute_reply": "2021-03-23T13:37:39.876443Z"
    },
    "papermill": {
     "duration": 0.013317,
     "end_time": "2021-03-23T13:37:39.876572",
     "exception": false,
     "start_time": "2021-03-23T13:37:39.863255",
     "status": "completed"
    },
    "tags": []
   },
   "outputs": [],
   "source": [
    "#! pip install torchsummaryX"
   ]
  },
  {
   "cell_type": "code",
   "execution_count": 6,
   "metadata": {
    "execution": {
     "iopub.execute_input": "2021-03-23T13:37:39.898865Z",
     "iopub.status.busy": "2021-03-23T13:37:39.898362Z",
     "iopub.status.idle": "2021-03-23T13:37:45.602764Z",
     "shell.execute_reply": "2021-03-23T13:37:45.602303Z"
    },
    "papermill": {
     "duration": 5.718413,
     "end_time": "2021-03-23T13:37:45.602886",
     "exception": false,
     "start_time": "2021-03-23T13:37:39.884473",
     "status": "completed"
    },
    "tags": []
   },
   "outputs": [],
   "source": [
    "import torch.nn as nn\n",
    "from torch.optim import Adam\n",
    "from torchvision.models import resnet34\n",
    "#from torchsummaryX import summary\n",
    "\n",
    "class resnet(nn.Module) :\n",
    "    def __init__(self, output) :\n",
    "        super().__init__()\n",
    "        self.model = resnet34(pretrained=False) #use ResNet\n",
    "        self.model.fc = torch.nn.Linear(512, output) #change the last FC layer\n",
    "    def forward(self, x) :\n",
    "        output = self.model(x)\n",
    "        \n",
    "        return output\n",
    "\n",
    "model = resnet(classes).to(device)\n",
    "criterion = nn.CrossEntropyLoss().to(device)\n",
    "optimizer = torch.optim.Adam(model.parameters(), lr = 0.01)\n",
    "\n",
    "#summary(model, torch.rand((1, 3, 224, 224)).float().to(device))"
   ]
  },
  {
   "cell_type": "code",
   "execution_count": 7,
   "metadata": {
    "execution": {
     "iopub.execute_input": "2021-03-23T13:37:45.621704Z",
     "iopub.status.busy": "2021-03-23T13:37:45.621218Z",
     "iopub.status.idle": "2021-03-23T13:37:47.611725Z",
     "shell.execute_reply": "2021-03-23T13:37:47.611296Z"
    },
    "papermill": {
     "duration": 2.001051,
     "end_time": "2021-03-23T13:37:47.611847",
     "exception": false,
     "start_time": "2021-03-23T13:37:45.610796",
     "status": "completed"
    },
    "tags": []
   },
   "outputs": [
    {
     "data": {
      "text/plain": [
       "<All keys matched successfully>"
      ]
     },
     "execution_count": 7,
     "metadata": {},
     "output_type": "execute_result"
    }
   ],
   "source": [
    "#load model that I trained on local\n",
    "model.load_state_dict(torch.load('../input/modelpt/model.pt'))"
   ]
  },
  {
   "cell_type": "code",
   "execution_count": 8,
   "metadata": {
    "execution": {
     "iopub.execute_input": "2021-03-23T13:37:47.632643Z",
     "iopub.status.busy": "2021-03-23T13:37:47.632107Z",
     "iopub.status.idle": "2021-03-23T13:37:47.637592Z",
     "shell.execute_reply": "2021-03-23T13:37:47.637175Z"
    },
    "papermill": {
     "duration": 0.017544,
     "end_time": "2021-03-23T13:37:47.637691",
     "exception": false,
     "start_time": "2021-03-23T13:37:47.620147",
     "status": "completed"
    },
    "tags": []
   },
   "outputs": [
    {
     "data": {
      "text/plain": [
       "\"\\nn_epoch = 10\\ntorch.cuda.empty_cache()\\n\\nmodel.train()\\nprint('batchs : ', len(train_data))\\n\\nfor epoch in range(n_epoch) :\\n    epoch_loss = 0\\n    epoch_acc = 0\\n    for i, (x, y) in tqdm(enumerate(train_data)) :\\n        y = y.reshape(-1)\\n        \\n        predict = model(x)\\n        loss = criterion(predict, y)\\n        \\n        epoch_loss += loss / len(train_data)\\n        correct_prediction = torch.argmax(predict, 1) == y\\n        correct_prediction = correct_prediction.sum()\\n        epoch_acc += correct_prediction\\n        \\n        optimizer.zero_grad()\\n        loss.backward()\\n        optimizer.step()\\n        \\n    epoch_acc = epoch_acc / (32 * len(train_data))\\n    print('Epoch : {}/{},   loss : {:.5f},    acc : {:.5f}'.format(epoch+1, n_epoch, epoch_loss, epoch_acc))\\n    \\n    if epoch_acc > 0.98 : break\\n        \\n#계속 죽으니까 10번씩 돌리고 저장\\n#save model to continue learning\\ntorch.save(model.state_dict(), 'model.pt')\\n\""
      ]
     },
     "execution_count": 8,
     "metadata": {},
     "output_type": "execute_result"
    }
   ],
   "source": [
    "'''\n",
    "n_epoch = 10\n",
    "torch.cuda.empty_cache()\n",
    "\n",
    "model.train()\n",
    "print('batchs : ', len(train_data))\n",
    "\n",
    "for epoch in range(n_epoch) :\n",
    "    epoch_loss = 0\n",
    "    epoch_acc = 0\n",
    "    for i, (x, y) in tqdm(enumerate(train_data)) :\n",
    "        y = y.reshape(-1)\n",
    "        \n",
    "        predict = model(x)\n",
    "        loss = criterion(predict, y)\n",
    "        \n",
    "        epoch_loss += loss / len(train_data)\n",
    "        correct_prediction = torch.argmax(predict, 1) == y\n",
    "        correct_prediction = correct_prediction.sum()\n",
    "        epoch_acc += correct_prediction\n",
    "        \n",
    "        optimizer.zero_grad()\n",
    "        loss.backward()\n",
    "        optimizer.step()\n",
    "        \n",
    "    epoch_acc = epoch_acc / (32 * len(train_data))\n",
    "    print('Epoch : {}/{},   loss : {:.5f},    acc : {:.5f}'.format(epoch+1, n_epoch, epoch_loss, epoch_acc))\n",
    "    \n",
    "    if epoch_acc > 0.98 : break\n",
    "        \n",
    "#계속 죽으니까 10번씩 돌리고 저장\n",
    "#save model to continue learning\n",
    "torch.save(model.state_dict(), 'model.pt')\n",
    "'''"
   ]
  },
  {
   "cell_type": "code",
   "execution_count": 9,
   "metadata": {
    "execution": {
     "iopub.execute_input": "2021-03-23T13:37:47.662835Z",
     "iopub.status.busy": "2021-03-23T13:37:47.662279Z",
     "iopub.status.idle": "2021-03-23T13:37:50.058386Z",
     "shell.execute_reply": "2021-03-23T13:37:50.059334Z"
    },
    "papermill": {
     "duration": 2.413251,
     "end_time": "2021-03-23T13:37:50.059532",
     "exception": false,
     "start_time": "2021-03-23T13:37:47.646281",
     "status": "completed"
    },
    "tags": []
   },
   "outputs": [
    {
     "data": {
      "application/vnd.jupyter.widget-view+json": {
       "model_id": "1fcd736c7067495e9af31aff5adb235c",
       "version_major": 2,
       "version_minor": 0
      },
      "text/plain": [
       "|          | 0/? [00:00<?, ?it/s]"
      ]
     },
     "metadata": {},
     "output_type": "display_data"
    },
    {
     "name": "stdout",
     "output_type": "stream",
     "text": [
      "['ad8770db05586b59.jpg' 'c7b03e718489f3ca.jpg' '85f8cb619c66b863.jpg']\n"
     ]
    },
    {
     "data": {
      "text/html": [
       "<div>\n",
       "<style scoped>\n",
       "    .dataframe tbody tr th:only-of-type {\n",
       "        vertical-align: middle;\n",
       "    }\n",
       "\n",
       "    .dataframe tbody tr th {\n",
       "        vertical-align: top;\n",
       "    }\n",
       "\n",
       "    .dataframe thead th {\n",
       "        text-align: right;\n",
       "    }\n",
       "</style>\n",
       "<table border=\"1\" class=\"dataframe\">\n",
       "  <thead>\n",
       "    <tr style=\"text-align: right;\">\n",
       "      <th></th>\n",
       "      <th>image</th>\n",
       "      <th>labels</th>\n",
       "    </tr>\n",
       "  </thead>\n",
       "  <tbody>\n",
       "    <tr>\n",
       "      <th>0</th>\n",
       "      <td>ad8770db05586b59.jpg</td>\n",
       "      <td>scab frog_eye_leaf_spot</td>\n",
       "    </tr>\n",
       "    <tr>\n",
       "      <th>1</th>\n",
       "      <td>c7b03e718489f3ca.jpg</td>\n",
       "      <td>frog_eye_leaf_spot</td>\n",
       "    </tr>\n",
       "    <tr>\n",
       "      <th>2</th>\n",
       "      <td>85f8cb619c66b863.jpg</td>\n",
       "      <td>scab</td>\n",
       "    </tr>\n",
       "  </tbody>\n",
       "</table>\n",
       "</div>"
      ],
      "text/plain": [
       "                  image                   labels\n",
       "0  ad8770db05586b59.jpg  scab frog_eye_leaf_spot\n",
       "1  c7b03e718489f3ca.jpg       frog_eye_leaf_spot\n",
       "2  85f8cb619c66b863.jpg                     scab"
      ]
     },
     "execution_count": 9,
     "metadata": {},
     "output_type": "execute_result"
    }
   ],
   "source": [
    "valid_image_list = glob('../input/plant-pathology-2021-fgvc8/test_images/*.jpg')\n",
    "\n",
    "\n",
    "#TEN_CROP\n",
    "valid_transform = transforms.Compose([\n",
    "      transforms.ToTensor(),\n",
    "      transforms.Resize(256),\n",
    "      transforms.Normalize((0.5, 0.5, 0.5), (0.5, 0.5, 0.5)),\n",
    "      transforms.TenCrop([224, 224])])\n",
    "\n",
    "model.eval()\n",
    "predict_list = []\n",
    "image_name_list = []\n",
    "for i, image in tqdm(enumerate(valid_image_list)) :\n",
    "    image_name = image[48:]\n",
    "    \n",
    "    img = cv2.imread(image)\n",
    "    img = valid_transform(img)\n",
    "    \n",
    "    result_list = torch.FloatTensor(np.zeros((classes))).to(device)\n",
    "    for j, x in enumerate(img) :\n",
    "        x = x.to(device)\n",
    "        x = x.reshape(-1, 3, 224, 224)\n",
    "        predict = model(x)\n",
    "        predict = predict.reshape(-1)\n",
    "        result_list += predict\n",
    "    \n",
    "    predict_list.append(torch.argmax(result_list).item())\n",
    "    image_name_list.append(image_name)\n",
    "    \n",
    "predict_list = np.array(predict_list)\n",
    "image_name_list = np.array(image_name_list)\n",
    "print(image_name_list)\n",
    "\n",
    "submission_df = pd.DataFrame()\n",
    "submission_df['image'] = image_name_list\n",
    "submission_df['label_id'] = predict_list\n",
    "submission_df['labels'] = submission_df['label_id'].map(label_dic)\n",
    "del submission_df['label_id']\n",
    "submission_df.head()"
   ]
  },
  {
   "cell_type": "code",
   "execution_count": 10,
   "metadata": {
    "execution": {
     "iopub.execute_input": "2021-03-23T13:37:50.096728Z",
     "iopub.status.busy": "2021-03-23T13:37:50.094493Z",
     "iopub.status.idle": "2021-03-23T13:37:50.296154Z",
     "shell.execute_reply": "2021-03-23T13:37:50.295042Z"
    },
    "papermill": {
     "duration": 0.221393,
     "end_time": "2021-03-23T13:37:50.296302",
     "exception": false,
     "start_time": "2021-03-23T13:37:50.074909",
     "status": "completed"
    },
    "tags": []
   },
   "outputs": [],
   "source": [
    "submission_df.to_csv(\"submission.csv\", index = False)"
   ]
  }
 ],
 "metadata": {
  "kernelspec": {
   "display_name": "Python 3",
   "language": "python",
   "name": "python3"
  },
  "language_info": {
   "codemirror_mode": {
    "name": "ipython",
    "version": 3
   },
   "file_extension": ".py",
   "mimetype": "text/x-python",
   "name": "python",
   "nbconvert_exporter": "python",
   "pygments_lexer": "ipython3",
   "version": "3.7.9"
  },
  "papermill": {
   "default_parameters": {},
   "duration": 21.819848,
   "end_time": "2021-03-23T13:37:52.043465",
   "environment_variables": {},
   "exception": null,
   "input_path": "__notebook__.ipynb",
   "output_path": "__notebook__.ipynb",
   "parameters": {},
   "start_time": "2021-03-23T13:37:30.223617",
   "version": "2.2.2"
  },
  "widgets": {
   "application/vnd.jupyter.widget-state+json": {
    "state": {
     "1fcd736c7067495e9af31aff5adb235c": {
      "model_module": "@jupyter-widgets/controls",
      "model_module_version": "1.5.0",
      "model_name": "HBoxModel",
      "state": {
       "_dom_classes": [],
       "_model_module": "@jupyter-widgets/controls",
       "_model_module_version": "1.5.0",
       "_model_name": "HBoxModel",
       "_view_count": null,
       "_view_module": "@jupyter-widgets/controls",
       "_view_module_version": "1.5.0",
       "_view_name": "HBoxView",
       "box_style": "",
       "children": [
        "IPY_MODEL_e639418ffe9a41ed8276cacc6db30bbf",
        "IPY_MODEL_23ca0584dff14f2fb5dfff8cb16e0c8d",
        "IPY_MODEL_b21b3526110547c49d360151d2d37789"
       ],
       "layout": "IPY_MODEL_4123bcf1cd524e2792ea961949009b52"
      }
     },
     "23ca0584dff14f2fb5dfff8cb16e0c8d": {
      "model_module": "@jupyter-widgets/controls",
      "model_module_version": "1.5.0",
      "model_name": "FloatProgressModel",
      "state": {
       "_dom_classes": [],
       "_model_module": "@jupyter-widgets/controls",
       "_model_module_version": "1.5.0",
       "_model_name": "FloatProgressModel",
       "_view_count": null,
       "_view_module": "@jupyter-widgets/controls",
       "_view_module_version": "1.5.0",
       "_view_name": "ProgressView",
       "bar_style": "success",
       "description": "",
       "description_tooltip": null,
       "layout": "IPY_MODEL_95fdd5d5f2e943ff8a58518e1c80d17e",
       "max": 1.0,
       "min": 0.0,
       "orientation": "horizontal",
       "style": "IPY_MODEL_d3f04f3732f34be39bf9088cf7cd7a21",
       "value": 1.0
      }
     },
     "4123bcf1cd524e2792ea961949009b52": {
      "model_module": "@jupyter-widgets/base",
      "model_module_version": "1.2.0",
      "model_name": "LayoutModel",
      "state": {
       "_model_module": "@jupyter-widgets/base",
       "_model_module_version": "1.2.0",
       "_model_name": "LayoutModel",
       "_view_count": null,
       "_view_module": "@jupyter-widgets/base",
       "_view_module_version": "1.2.0",
       "_view_name": "LayoutView",
       "align_content": null,
       "align_items": null,
       "align_self": null,
       "border": null,
       "bottom": null,
       "display": null,
       "flex": null,
       "flex_flow": null,
       "grid_area": null,
       "grid_auto_columns": null,
       "grid_auto_flow": null,
       "grid_auto_rows": null,
       "grid_column": null,
       "grid_gap": null,
       "grid_row": null,
       "grid_template_areas": null,
       "grid_template_columns": null,
       "grid_template_rows": null,
       "height": null,
       "justify_content": null,
       "justify_items": null,
       "left": null,
       "margin": null,
       "max_height": null,
       "max_width": null,
       "min_height": null,
       "min_width": null,
       "object_fit": null,
       "object_position": null,
       "order": null,
       "overflow": null,
       "overflow_x": null,
       "overflow_y": null,
       "padding": null,
       "right": null,
       "top": null,
       "visibility": null,
       "width": null
      }
     },
     "75c73b8c6e2b428db19bcda3cdc9a712": {
      "model_module": "@jupyter-widgets/controls",
      "model_module_version": "1.5.0",
      "model_name": "DescriptionStyleModel",
      "state": {
       "_model_module": "@jupyter-widgets/controls",
       "_model_module_version": "1.5.0",
       "_model_name": "DescriptionStyleModel",
       "_view_count": null,
       "_view_module": "@jupyter-widgets/base",
       "_view_module_version": "1.2.0",
       "_view_name": "StyleView",
       "description_width": ""
      }
     },
     "95fdd5d5f2e943ff8a58518e1c80d17e": {
      "model_module": "@jupyter-widgets/base",
      "model_module_version": "1.2.0",
      "model_name": "LayoutModel",
      "state": {
       "_model_module": "@jupyter-widgets/base",
       "_model_module_version": "1.2.0",
       "_model_name": "LayoutModel",
       "_view_count": null,
       "_view_module": "@jupyter-widgets/base",
       "_view_module_version": "1.2.0",
       "_view_name": "LayoutView",
       "align_content": null,
       "align_items": null,
       "align_self": null,
       "border": null,
       "bottom": null,
       "display": null,
       "flex": null,
       "flex_flow": null,
       "grid_area": null,
       "grid_auto_columns": null,
       "grid_auto_flow": null,
       "grid_auto_rows": null,
       "grid_column": null,
       "grid_gap": null,
       "grid_row": null,
       "grid_template_areas": null,
       "grid_template_columns": null,
       "grid_template_rows": null,
       "height": null,
       "justify_content": null,
       "justify_items": null,
       "left": null,
       "margin": null,
       "max_height": null,
       "max_width": null,
       "min_height": null,
       "min_width": null,
       "object_fit": null,
       "object_position": null,
       "order": null,
       "overflow": null,
       "overflow_x": null,
       "overflow_y": null,
       "padding": null,
       "right": null,
       "top": null,
       "visibility": null,
       "width": "20px"
      }
     },
     "96b05bc9b0914dbb8b243b2dc5ea3e2d": {
      "model_module": "@jupyter-widgets/base",
      "model_module_version": "1.2.0",
      "model_name": "LayoutModel",
      "state": {
       "_model_module": "@jupyter-widgets/base",
       "_model_module_version": "1.2.0",
       "_model_name": "LayoutModel",
       "_view_count": null,
       "_view_module": "@jupyter-widgets/base",
       "_view_module_version": "1.2.0",
       "_view_name": "LayoutView",
       "align_content": null,
       "align_items": null,
       "align_self": null,
       "border": null,
       "bottom": null,
       "display": null,
       "flex": null,
       "flex_flow": null,
       "grid_area": null,
       "grid_auto_columns": null,
       "grid_auto_flow": null,
       "grid_auto_rows": null,
       "grid_column": null,
       "grid_gap": null,
       "grid_row": null,
       "grid_template_areas": null,
       "grid_template_columns": null,
       "grid_template_rows": null,
       "height": null,
       "justify_content": null,
       "justify_items": null,
       "left": null,
       "margin": null,
       "max_height": null,
       "max_width": null,
       "min_height": null,
       "min_width": null,
       "object_fit": null,
       "object_position": null,
       "order": null,
       "overflow": null,
       "overflow_x": null,
       "overflow_y": null,
       "padding": null,
       "right": null,
       "top": null,
       "visibility": null,
       "width": null
      }
     },
     "b21b3526110547c49d360151d2d37789": {
      "model_module": "@jupyter-widgets/controls",
      "model_module_version": "1.5.0",
      "model_name": "HTMLModel",
      "state": {
       "_dom_classes": [],
       "_model_module": "@jupyter-widgets/controls",
       "_model_module_version": "1.5.0",
       "_model_name": "HTMLModel",
       "_view_count": null,
       "_view_module": "@jupyter-widgets/controls",
       "_view_module_version": "1.5.0",
       "_view_name": "HTMLView",
       "description": "",
       "description_tooltip": null,
       "layout": "IPY_MODEL_c6bb08b217884cdd991b7d1f7e88656c",
       "placeholder": "​",
       "style": "IPY_MODEL_dc88be9efb304a498d0794569729f017",
       "value": "3it [00:02,  1.38it/s]"
      }
     },
     "c6bb08b217884cdd991b7d1f7e88656c": {
      "model_module": "@jupyter-widgets/base",
      "model_module_version": "1.2.0",
      "model_name": "LayoutModel",
      "state": {
       "_model_module": "@jupyter-widgets/base",
       "_model_module_version": "1.2.0",
       "_model_name": "LayoutModel",
       "_view_count": null,
       "_view_module": "@jupyter-widgets/base",
       "_view_module_version": "1.2.0",
       "_view_name": "LayoutView",
       "align_content": null,
       "align_items": null,
       "align_self": null,
       "border": null,
       "bottom": null,
       "display": null,
       "flex": null,
       "flex_flow": null,
       "grid_area": null,
       "grid_auto_columns": null,
       "grid_auto_flow": null,
       "grid_auto_rows": null,
       "grid_column": null,
       "grid_gap": null,
       "grid_row": null,
       "grid_template_areas": null,
       "grid_template_columns": null,
       "grid_template_rows": null,
       "height": null,
       "justify_content": null,
       "justify_items": null,
       "left": null,
       "margin": null,
       "max_height": null,
       "max_width": null,
       "min_height": null,
       "min_width": null,
       "object_fit": null,
       "object_position": null,
       "order": null,
       "overflow": null,
       "overflow_x": null,
       "overflow_y": null,
       "padding": null,
       "right": null,
       "top": null,
       "visibility": null,
       "width": null
      }
     },
     "d3f04f3732f34be39bf9088cf7cd7a21": {
      "model_module": "@jupyter-widgets/controls",
      "model_module_version": "1.5.0",
      "model_name": "ProgressStyleModel",
      "state": {
       "_model_module": "@jupyter-widgets/controls",
       "_model_module_version": "1.5.0",
       "_model_name": "ProgressStyleModel",
       "_view_count": null,
       "_view_module": "@jupyter-widgets/base",
       "_view_module_version": "1.2.0",
       "_view_name": "StyleView",
       "bar_color": null,
       "description_width": ""
      }
     },
     "dc88be9efb304a498d0794569729f017": {
      "model_module": "@jupyter-widgets/controls",
      "model_module_version": "1.5.0",
      "model_name": "DescriptionStyleModel",
      "state": {
       "_model_module": "@jupyter-widgets/controls",
       "_model_module_version": "1.5.0",
       "_model_name": "DescriptionStyleModel",
       "_view_count": null,
       "_view_module": "@jupyter-widgets/base",
       "_view_module_version": "1.2.0",
       "_view_name": "StyleView",
       "description_width": ""
      }
     },
     "e639418ffe9a41ed8276cacc6db30bbf": {
      "model_module": "@jupyter-widgets/controls",
      "model_module_version": "1.5.0",
      "model_name": "HTMLModel",
      "state": {
       "_dom_classes": [],
       "_model_module": "@jupyter-widgets/controls",
       "_model_module_version": "1.5.0",
       "_model_name": "HTMLModel",
       "_view_count": null,
       "_view_module": "@jupyter-widgets/controls",
       "_view_module_version": "1.5.0",
       "_view_name": "HTMLView",
       "description": "",
       "description_tooltip": null,
       "layout": "IPY_MODEL_96b05bc9b0914dbb8b243b2dc5ea3e2d",
       "placeholder": "​",
       "style": "IPY_MODEL_75c73b8c6e2b428db19bcda3cdc9a712",
       "value": ""
      }
     }
    },
    "version_major": 2,
    "version_minor": 0
   }
  }
 },
 "nbformat": 4,
 "nbformat_minor": 4
}
