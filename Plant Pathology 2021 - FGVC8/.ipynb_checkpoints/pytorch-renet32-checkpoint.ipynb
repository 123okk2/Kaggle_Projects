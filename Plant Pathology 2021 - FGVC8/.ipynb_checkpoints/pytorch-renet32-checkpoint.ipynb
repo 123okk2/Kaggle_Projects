{
 "cells": [
  {
   "cell_type": "code",
   "execution_count": 1,
   "metadata": {
    "_cell_guid": "b1076dfc-b9ad-4769-8c92-a6c4dae69d19",
    "_uuid": "8f2839f25d086af736a60e9eeb907d3b93b6e0e5"
   },
   "outputs": [
    {
     "data": {
      "text/plain": [
       "\"\\nfor dirname, _, filenames in os.walk('/kaggle/input'):\\n    for filename in filenames:\\n        print(os.path.join(dirname, filename))\\n\""
      ]
     },
     "execution_count": 1,
     "metadata": {},
     "output_type": "execute_result"
    }
   ],
   "source": [
    "# This Python 3 environment comes with many helpful analytics libraries installed\n",
    "# It is defined by the kaggle/python Docker image: https://github.com/kaggle/docker-python\n",
    "# For example, here's several helpful packages to load\n",
    "\n",
    "import numpy as np # linear algebra\n",
    "import pandas as pd # data processing, CSV file I/O (e.g. pd.read_csv)\n",
    "\n",
    "# Input data files are available in the read-only \"../input/\" directory\n",
    "# For example, running this (by clicking run or pressing Shift+Enter) will list all files under the input directory\n",
    "\n",
    "import os\n",
    "'''\n",
    "for dirname, _, filenames in os.walk('/kaggle/input'):\n",
    "    for filename in filenames:\n",
    "        print(os.path.join(dirname, filename))\n",
    "'''\n",
    "# You can write up to 20GB to the current directory (/kaggle/working/) that gets preserved as output when you create a version using \"Save & Run All\" \n",
    "# You can also write temporary files to /kaggle/temp/, but they won't be saved outside of the current session"
   ]
  },
  {
   "cell_type": "code",
   "execution_count": 47,
   "metadata": {},
   "outputs": [
    {
     "data": {
      "text/html": [
       "<div>\n",
       "<style scoped>\n",
       "    .dataframe tbody tr th:only-of-type {\n",
       "        vertical-align: middle;\n",
       "    }\n",
       "\n",
       "    .dataframe tbody tr th {\n",
       "        vertical-align: top;\n",
       "    }\n",
       "\n",
       "    .dataframe thead th {\n",
       "        text-align: right;\n",
       "    }\n",
       "</style>\n",
       "<table border=\"1\" class=\"dataframe\">\n",
       "  <thead>\n",
       "    <tr style=\"text-align: right;\">\n",
       "      <th></th>\n",
       "      <th>image</th>\n",
       "      <th>labels</th>\n",
       "    </tr>\n",
       "  </thead>\n",
       "  <tbody>\n",
       "    <tr>\n",
       "      <th>0</th>\n",
       "      <td>800113bb65efe69e.jpg</td>\n",
       "      <td>healthy</td>\n",
       "    </tr>\n",
       "    <tr>\n",
       "      <th>1</th>\n",
       "      <td>8002cb321f8bfcdf.jpg</td>\n",
       "      <td>scab frog_eye_leaf_spot complex</td>\n",
       "    </tr>\n",
       "    <tr>\n",
       "      <th>2</th>\n",
       "      <td>80070f7fb5e2ccaa.jpg</td>\n",
       "      <td>scab</td>\n",
       "    </tr>\n",
       "    <tr>\n",
       "      <th>3</th>\n",
       "      <td>80077517781fb94f.jpg</td>\n",
       "      <td>scab</td>\n",
       "    </tr>\n",
       "    <tr>\n",
       "      <th>4</th>\n",
       "      <td>800cbf0ff87721f8.jpg</td>\n",
       "      <td>complex</td>\n",
       "    </tr>\n",
       "  </tbody>\n",
       "</table>\n",
       "</div>"
      ],
      "text/plain": [
       "                  image                           labels\n",
       "0  800113bb65efe69e.jpg                          healthy\n",
       "1  8002cb321f8bfcdf.jpg  scab frog_eye_leaf_spot complex\n",
       "2  80070f7fb5e2ccaa.jpg                             scab\n",
       "3  80077517781fb94f.jpg                             scab\n",
       "4  800cbf0ff87721f8.jpg                          complex"
      ]
     },
     "execution_count": 47,
     "metadata": {},
     "output_type": "execute_result"
    }
   ],
   "source": [
    "#load train.csv\n",
    "\n",
    "#train_df = pd.read_csv('../input/plant-pathology-2021-fgvc8/train.csv')\n",
    "train_df = pd.read_csv('plant-pathology-2021-fgvc8/train.csv')\n",
    "train_df.head(5)"
   ]
  },
  {
   "cell_type": "code",
   "execution_count": 48,
   "metadata": {},
   "outputs": [
    {
     "name": "stdout",
     "output_type": "stream",
     "text": [
      "{0: 'cider_apple_rust', 1: 'complex', 2: 'frog_eye_leaf_spot', 3: 'frog_eye_leaf_spot complex', 4: 'healthy', 5: 'powdery_mildew', 6: 'powdery_mildew complex', 7: 'rust complex', 8: 'rust frog_eye_leaf_spot', 9: 'scab', 10: 'scab frog_eye_leaf_spot', 11: 'scab frog_eye_leaf_spot complex'}\n",
      "(18632,)\n"
     ]
    }
   ],
   "source": [
    "#문자 라벨을 숫자 라벨로 변환\n",
    "#make string label to numeric label\n",
    "from sklearn.preprocessing import LabelEncoder\n",
    "\n",
    "label = LabelEncoder()\n",
    "label.fit(train_df['labels'])\n",
    "train_df['label_id'] = label.transform(train_df['labels'])\n",
    "label_dic = dict(sorted(train_df[['label_id', 'labels']].values.tolist())) #save for submission\n",
    "print(label_dic)\n",
    "classes = len(train_df['labels'].value_counts()) #12\n",
    "\n",
    "del train_df['labels'] #we don't need this Series anymore\n",
    "\n",
    "image_names = np.array(train_df['image'].values)\n",
    "image_labels = np.array(train_df['label_id'].values)\n",
    "\n",
    "print(image_names.shape) #18632"
   ]
  },
  {
   "cell_type": "code",
   "execution_count": 56,
   "metadata": {},
   "outputs": [],
   "source": [
    "import matplotlib.pyplot as plt\n",
    "from glob import glob\n",
    "import cv2, torch\n",
    "import torchvision.transforms as transforms\n",
    "from tqdm.notebook import tqdm\n",
    "from torch.utils.data import Dataset, DataLoader\n",
    "\n",
    "device = torch.device('cuda' if torch.cuda.is_available else 'cpu')\n",
    "\n",
    "transform = transforms.Compose([\n",
    "    transforms.ToTensor(),\n",
    "    transforms.Resize((224, 224)),\n",
    "    transforms.Normalize((0.5, 0.5, 0.5), (0.5, 0.5, 0.5))])\n",
    "\n",
    "#커스텀 데이터셋 설정\n",
    "#dataset and dataloader for train\n",
    "class dataset(Dataset) :\n",
    "    def __init__(self, image_list, image_names, image_labels, transform, device) :\n",
    "        self.image_list = image_list\n",
    "        self.image_names = image_names\n",
    "        self.image_labels = image_labels\n",
    "        self.transform = transform\n",
    "    \n",
    "    def __len__(self) :\n",
    "        return len(self.image_list)\n",
    "    \n",
    "    def __getitem__(self, index) :\n",
    "        x = cv2.imread(self.image_list[index])\n",
    "        x = self.transform(x).to(self.device)\n",
    "        \n",
    "        image_name = image_list[index][40:]\n",
    "        y = self.image_labels[np.where(image_names == image_name)]\n",
    "        y = torch.LongTensor([y,]).to(device)\n",
    "        \n",
    "        return x, y\n",
    "\n",
    "\n",
    "#load train_images\n",
    "image_list = glob('plant-pathology-2021-fgvc8/train_images/*.jpg')\n",
    "\n",
    "\n",
    "train_data = dataset(image_list, image_names, image_labels, transform, device)\n",
    "train_data = DataLoader(train_data, batch_size = 32, shuffle = True) #not enough GPU-memory"
   ]
  },
  {
   "cell_type": "code",
   "execution_count": 8,
   "metadata": {},
   "outputs": [
    {
     "name": "stdout",
     "output_type": "stream",
     "text": [
      "Requirement already satisfied: torchsummaryX in c:\\users\\mkjh9\\anaconda3\\lib\\site-packages (1.3.0)\n",
      "Requirement already satisfied: torch in c:\\users\\mkjh9\\anaconda3\\lib\\site-packages (from torchsummaryX) (1.8.0)\n",
      "Requirement already satisfied: numpy in c:\\users\\mkjh9\\anaconda3\\lib\\site-packages (from torchsummaryX) (1.19.2)\n",
      "Requirement already satisfied: pandas in c:\\users\\mkjh9\\anaconda3\\lib\\site-packages (from torchsummaryX) (1.2.3)\n",
      "Requirement already satisfied: python-dateutil>=2.7.3 in c:\\users\\mkjh9\\anaconda3\\lib\\site-packages (from pandas->torchsummaryX) (2.8.1)\n",
      "Requirement already satisfied: pytz>=2017.3 in c:\\users\\mkjh9\\anaconda3\\lib\\site-packages (from pandas->torchsummaryX) (2021.1)\n",
      "Requirement already satisfied: six>=1.5 in c:\\users\\mkjh9\\anaconda3\\lib\\site-packages (from python-dateutil>=2.7.3->pandas->torchsummaryX) (1.15.0)\n",
      "Requirement already satisfied: typing_extensions in c:\\users\\mkjh9\\anaconda3\\lib\\site-packages (from torch->torchsummaryX) (3.7.4.3)\n"
     ]
    }
   ],
   "source": [
    "! pip install torchsummaryX"
   ]
  },
  {
   "cell_type": "code",
   "execution_count": 57,
   "metadata": {},
   "outputs": [
    {
     "name": "stdout",
     "output_type": "stream",
     "text": [
      "=======================================================================================================\n",
      "                                                Kernel Shape  \\\n",
      "Layer                                                          \n",
      "0_model.Conv2d_conv1                           [3, 64, 7, 7]   \n",
      "1_model.BatchNorm2d_bn1                                 [64]   \n",
      "2_model.ReLU_relu                                          -   \n",
      "3_model.MaxPool2d_maxpool                                  -   \n",
      "4_model.layer1.0.Conv2d_conv1                 [64, 64, 3, 3]   \n",
      "5_model.layer1.0.BatchNorm2d_bn1                        [64]   \n",
      "6_model.layer1.0.ReLU_relu                                 -   \n",
      "7_model.layer1.0.Conv2d_conv2                 [64, 64, 3, 3]   \n",
      "8_model.layer1.0.BatchNorm2d_bn2                        [64]   \n",
      "9_model.layer1.0.ReLU_relu                                 -   \n",
      "10_model.layer1.1.Conv2d_conv1                [64, 64, 3, 3]   \n",
      "11_model.layer1.1.BatchNorm2d_bn1                       [64]   \n",
      "12_model.layer1.1.ReLU_relu                                -   \n",
      "13_model.layer1.1.Conv2d_conv2                [64, 64, 3, 3]   \n",
      "14_model.layer1.1.BatchNorm2d_bn2                       [64]   \n",
      "15_model.layer1.1.ReLU_relu                                -   \n",
      "16_model.layer1.2.Conv2d_conv1                [64, 64, 3, 3]   \n",
      "17_model.layer1.2.BatchNorm2d_bn1                       [64]   \n",
      "18_model.layer1.2.ReLU_relu                                -   \n",
      "19_model.layer1.2.Conv2d_conv2                [64, 64, 3, 3]   \n",
      "20_model.layer1.2.BatchNorm2d_bn2                       [64]   \n",
      "21_model.layer1.2.ReLU_relu                                -   \n",
      "22_model.layer2.0.Conv2d_conv1               [64, 128, 3, 3]   \n",
      "23_model.layer2.0.BatchNorm2d_bn1                      [128]   \n",
      "24_model.layer2.0.ReLU_relu                                -   \n",
      "25_model.layer2.0.Conv2d_conv2              [128, 128, 3, 3]   \n",
      "26_model.layer2.0.BatchNorm2d_bn2                      [128]   \n",
      "27_model.layer2.0.downsample.Conv2d_0        [64, 128, 1, 1]   \n",
      "28_model.layer2.0.downsample.BatchNorm2d_1             [128]   \n",
      "29_model.layer2.0.ReLU_relu                                -   \n",
      "30_model.layer2.1.Conv2d_conv1              [128, 128, 3, 3]   \n",
      "31_model.layer2.1.BatchNorm2d_bn1                      [128]   \n",
      "32_model.layer2.1.ReLU_relu                                -   \n",
      "33_model.layer2.1.Conv2d_conv2              [128, 128, 3, 3]   \n",
      "34_model.layer2.1.BatchNorm2d_bn2                      [128]   \n",
      "35_model.layer2.1.ReLU_relu                                -   \n",
      "36_model.layer2.2.Conv2d_conv1              [128, 128, 3, 3]   \n",
      "37_model.layer2.2.BatchNorm2d_bn1                      [128]   \n",
      "38_model.layer2.2.ReLU_relu                                -   \n",
      "39_model.layer2.2.Conv2d_conv2              [128, 128, 3, 3]   \n",
      "40_model.layer2.2.BatchNorm2d_bn2                      [128]   \n",
      "41_model.layer2.2.ReLU_relu                                -   \n",
      "42_model.layer2.3.Conv2d_conv1              [128, 128, 3, 3]   \n",
      "43_model.layer2.3.BatchNorm2d_bn1                      [128]   \n",
      "44_model.layer2.3.ReLU_relu                                -   \n",
      "45_model.layer2.3.Conv2d_conv2              [128, 128, 3, 3]   \n",
      "46_model.layer2.3.BatchNorm2d_bn2                      [128]   \n",
      "47_model.layer2.3.ReLU_relu                                -   \n",
      "48_model.layer3.0.Conv2d_conv1              [128, 256, 3, 3]   \n",
      "49_model.layer3.0.BatchNorm2d_bn1                      [256]   \n",
      "50_model.layer3.0.ReLU_relu                                -   \n",
      "51_model.layer3.0.Conv2d_conv2              [256, 256, 3, 3]   \n",
      "52_model.layer3.0.BatchNorm2d_bn2                      [256]   \n",
      "53_model.layer3.0.downsample.Conv2d_0       [128, 256, 1, 1]   \n",
      "54_model.layer3.0.downsample.BatchNorm2d_1             [256]   \n",
      "55_model.layer3.0.ReLU_relu                                -   \n",
      "56_model.layer3.1.Conv2d_conv1              [256, 256, 3, 3]   \n",
      "57_model.layer3.1.BatchNorm2d_bn1                      [256]   \n",
      "58_model.layer3.1.ReLU_relu                                -   \n",
      "59_model.layer3.1.Conv2d_conv2              [256, 256, 3, 3]   \n",
      "60_model.layer3.1.BatchNorm2d_bn2                      [256]   \n",
      "61_model.layer3.1.ReLU_relu                                -   \n",
      "62_model.layer3.2.Conv2d_conv1              [256, 256, 3, 3]   \n",
      "63_model.layer3.2.BatchNorm2d_bn1                      [256]   \n",
      "64_model.layer3.2.ReLU_relu                                -   \n",
      "65_model.layer3.2.Conv2d_conv2              [256, 256, 3, 3]   \n",
      "66_model.layer3.2.BatchNorm2d_bn2                      [256]   \n",
      "67_model.layer3.2.ReLU_relu                                -   \n",
      "68_model.layer3.3.Conv2d_conv1              [256, 256, 3, 3]   \n",
      "69_model.layer3.3.BatchNorm2d_bn1                      [256]   \n",
      "70_model.layer3.3.ReLU_relu                                -   \n",
      "71_model.layer3.3.Conv2d_conv2              [256, 256, 3, 3]   \n",
      "72_model.layer3.3.BatchNorm2d_bn2                      [256]   \n",
      "73_model.layer3.3.ReLU_relu                                -   \n",
      "74_model.layer3.4.Conv2d_conv1              [256, 256, 3, 3]   \n",
      "75_model.layer3.4.BatchNorm2d_bn1                      [256]   \n",
      "76_model.layer3.4.ReLU_relu                                -   \n",
      "77_model.layer3.4.Conv2d_conv2              [256, 256, 3, 3]   \n",
      "78_model.layer3.4.BatchNorm2d_bn2                      [256]   \n",
      "79_model.layer3.4.ReLU_relu                                -   \n",
      "80_model.layer3.5.Conv2d_conv1              [256, 256, 3, 3]   \n",
      "81_model.layer3.5.BatchNorm2d_bn1                      [256]   \n",
      "82_model.layer3.5.ReLU_relu                                -   \n",
      "83_model.layer3.5.Conv2d_conv2              [256, 256, 3, 3]   \n",
      "84_model.layer3.5.BatchNorm2d_bn2                      [256]   \n",
      "85_model.layer3.5.ReLU_relu                                -   \n",
      "86_model.layer4.0.Conv2d_conv1              [256, 512, 3, 3]   \n",
      "87_model.layer4.0.BatchNorm2d_bn1                      [512]   \n",
      "88_model.layer4.0.ReLU_relu                                -   \n",
      "89_model.layer4.0.Conv2d_conv2              [512, 512, 3, 3]   \n",
      "90_model.layer4.0.BatchNorm2d_bn2                      [512]   \n",
      "91_model.layer4.0.downsample.Conv2d_0       [256, 512, 1, 1]   \n",
      "92_model.layer4.0.downsample.BatchNorm2d_1             [512]   \n",
      "93_model.layer4.0.ReLU_relu                                -   \n",
      "94_model.layer4.1.Conv2d_conv1              [512, 512, 3, 3]   \n",
      "95_model.layer4.1.BatchNorm2d_bn1                      [512]   \n",
      "96_model.layer4.1.ReLU_relu                                -   \n",
      "97_model.layer4.1.Conv2d_conv2              [512, 512, 3, 3]   \n",
      "98_model.layer4.1.BatchNorm2d_bn2                      [512]   \n",
      "99_model.layer4.1.ReLU_relu                                -   \n",
      "100_model.layer4.2.Conv2d_conv1             [512, 512, 3, 3]   \n",
      "101_model.layer4.2.BatchNorm2d_bn1                     [512]   \n",
      "102_model.layer4.2.ReLU_relu                               -   \n",
      "103_model.layer4.2.Conv2d_conv2             [512, 512, 3, 3]   \n",
      "104_model.layer4.2.BatchNorm2d_bn2                     [512]   \n",
      "105_model.layer4.2.ReLU_relu                               -   \n",
      "106_model.AdaptiveAvgPool2d_avgpool                        -   \n",
      "107_model.Linear_fc                                [512, 12]   \n",
      "\n",
      "                                                 Output Shape     Params  \\\n",
      "Layer                                                                      \n",
      "0_model.Conv2d_conv1                        [1, 64, 112, 112]     9.408k   \n",
      "1_model.BatchNorm2d_bn1                     [1, 64, 112, 112]      128.0   \n",
      "2_model.ReLU_relu                           [1, 64, 112, 112]          -   \n",
      "3_model.MaxPool2d_maxpool                     [1, 64, 56, 56]          -   \n",
      "4_model.layer1.0.Conv2d_conv1                 [1, 64, 56, 56]    36.864k   \n",
      "5_model.layer1.0.BatchNorm2d_bn1              [1, 64, 56, 56]      128.0   \n",
      "6_model.layer1.0.ReLU_relu                    [1, 64, 56, 56]          -   \n",
      "7_model.layer1.0.Conv2d_conv2                 [1, 64, 56, 56]    36.864k   \n",
      "8_model.layer1.0.BatchNorm2d_bn2              [1, 64, 56, 56]      128.0   \n",
      "9_model.layer1.0.ReLU_relu                    [1, 64, 56, 56]          -   \n",
      "10_model.layer1.1.Conv2d_conv1                [1, 64, 56, 56]    36.864k   \n",
      "11_model.layer1.1.BatchNorm2d_bn1             [1, 64, 56, 56]      128.0   \n",
      "12_model.layer1.1.ReLU_relu                   [1, 64, 56, 56]          -   \n",
      "13_model.layer1.1.Conv2d_conv2                [1, 64, 56, 56]    36.864k   \n",
      "14_model.layer1.1.BatchNorm2d_bn2             [1, 64, 56, 56]      128.0   \n",
      "15_model.layer1.1.ReLU_relu                   [1, 64, 56, 56]          -   \n",
      "16_model.layer1.2.Conv2d_conv1                [1, 64, 56, 56]    36.864k   \n",
      "17_model.layer1.2.BatchNorm2d_bn1             [1, 64, 56, 56]      128.0   \n",
      "18_model.layer1.2.ReLU_relu                   [1, 64, 56, 56]          -   \n",
      "19_model.layer1.2.Conv2d_conv2                [1, 64, 56, 56]    36.864k   \n",
      "20_model.layer1.2.BatchNorm2d_bn2             [1, 64, 56, 56]      128.0   \n",
      "21_model.layer1.2.ReLU_relu                   [1, 64, 56, 56]          -   \n",
      "22_model.layer2.0.Conv2d_conv1               [1, 128, 28, 28]    73.728k   \n",
      "23_model.layer2.0.BatchNorm2d_bn1            [1, 128, 28, 28]      256.0   \n",
      "24_model.layer2.0.ReLU_relu                  [1, 128, 28, 28]          -   \n",
      "25_model.layer2.0.Conv2d_conv2               [1, 128, 28, 28]   147.456k   \n",
      "26_model.layer2.0.BatchNorm2d_bn2            [1, 128, 28, 28]      256.0   \n",
      "27_model.layer2.0.downsample.Conv2d_0        [1, 128, 28, 28]     8.192k   \n",
      "28_model.layer2.0.downsample.BatchNorm2d_1   [1, 128, 28, 28]      256.0   \n",
      "29_model.layer2.0.ReLU_relu                  [1, 128, 28, 28]          -   \n",
      "30_model.layer2.1.Conv2d_conv1               [1, 128, 28, 28]   147.456k   \n",
      "31_model.layer2.1.BatchNorm2d_bn1            [1, 128, 28, 28]      256.0   \n",
      "32_model.layer2.1.ReLU_relu                  [1, 128, 28, 28]          -   \n",
      "33_model.layer2.1.Conv2d_conv2               [1, 128, 28, 28]   147.456k   \n",
      "34_model.layer2.1.BatchNorm2d_bn2            [1, 128, 28, 28]      256.0   \n",
      "35_model.layer2.1.ReLU_relu                  [1, 128, 28, 28]          -   \n",
      "36_model.layer2.2.Conv2d_conv1               [1, 128, 28, 28]   147.456k   \n",
      "37_model.layer2.2.BatchNorm2d_bn1            [1, 128, 28, 28]      256.0   \n",
      "38_model.layer2.2.ReLU_relu                  [1, 128, 28, 28]          -   \n",
      "39_model.layer2.2.Conv2d_conv2               [1, 128, 28, 28]   147.456k   \n",
      "40_model.layer2.2.BatchNorm2d_bn2            [1, 128, 28, 28]      256.0   \n",
      "41_model.layer2.2.ReLU_relu                  [1, 128, 28, 28]          -   \n",
      "42_model.layer2.3.Conv2d_conv1               [1, 128, 28, 28]   147.456k   \n",
      "43_model.layer2.3.BatchNorm2d_bn1            [1, 128, 28, 28]      256.0   \n",
      "44_model.layer2.3.ReLU_relu                  [1, 128, 28, 28]          -   \n",
      "45_model.layer2.3.Conv2d_conv2               [1, 128, 28, 28]   147.456k   \n",
      "46_model.layer2.3.BatchNorm2d_bn2            [1, 128, 28, 28]      256.0   \n",
      "47_model.layer2.3.ReLU_relu                  [1, 128, 28, 28]          -   \n",
      "48_model.layer3.0.Conv2d_conv1               [1, 256, 14, 14]   294.912k   \n",
      "49_model.layer3.0.BatchNorm2d_bn1            [1, 256, 14, 14]      512.0   \n",
      "50_model.layer3.0.ReLU_relu                  [1, 256, 14, 14]          -   \n",
      "51_model.layer3.0.Conv2d_conv2               [1, 256, 14, 14]   589.824k   \n",
      "52_model.layer3.0.BatchNorm2d_bn2            [1, 256, 14, 14]      512.0   \n",
      "53_model.layer3.0.downsample.Conv2d_0        [1, 256, 14, 14]    32.768k   \n",
      "54_model.layer3.0.downsample.BatchNorm2d_1   [1, 256, 14, 14]      512.0   \n",
      "55_model.layer3.0.ReLU_relu                  [1, 256, 14, 14]          -   \n",
      "56_model.layer3.1.Conv2d_conv1               [1, 256, 14, 14]   589.824k   \n",
      "57_model.layer3.1.BatchNorm2d_bn1            [1, 256, 14, 14]      512.0   \n",
      "58_model.layer3.1.ReLU_relu                  [1, 256, 14, 14]          -   \n",
      "59_model.layer3.1.Conv2d_conv2               [1, 256, 14, 14]   589.824k   \n",
      "60_model.layer3.1.BatchNorm2d_bn2            [1, 256, 14, 14]      512.0   \n",
      "61_model.layer3.1.ReLU_relu                  [1, 256, 14, 14]          -   \n",
      "62_model.layer3.2.Conv2d_conv1               [1, 256, 14, 14]   589.824k   \n",
      "63_model.layer3.2.BatchNorm2d_bn1            [1, 256, 14, 14]      512.0   \n",
      "64_model.layer3.2.ReLU_relu                  [1, 256, 14, 14]          -   \n",
      "65_model.layer3.2.Conv2d_conv2               [1, 256, 14, 14]   589.824k   \n",
      "66_model.layer3.2.BatchNorm2d_bn2            [1, 256, 14, 14]      512.0   \n",
      "67_model.layer3.2.ReLU_relu                  [1, 256, 14, 14]          -   \n",
      "68_model.layer3.3.Conv2d_conv1               [1, 256, 14, 14]   589.824k   \n",
      "69_model.layer3.3.BatchNorm2d_bn1            [1, 256, 14, 14]      512.0   \n",
      "70_model.layer3.3.ReLU_relu                  [1, 256, 14, 14]          -   \n",
      "71_model.layer3.3.Conv2d_conv2               [1, 256, 14, 14]   589.824k   \n",
      "72_model.layer3.3.BatchNorm2d_bn2            [1, 256, 14, 14]      512.0   \n",
      "73_model.layer3.3.ReLU_relu                  [1, 256, 14, 14]          -   \n",
      "74_model.layer3.4.Conv2d_conv1               [1, 256, 14, 14]   589.824k   \n",
      "75_model.layer3.4.BatchNorm2d_bn1            [1, 256, 14, 14]      512.0   \n",
      "76_model.layer3.4.ReLU_relu                  [1, 256, 14, 14]          -   \n",
      "77_model.layer3.4.Conv2d_conv2               [1, 256, 14, 14]   589.824k   \n",
      "78_model.layer3.4.BatchNorm2d_bn2            [1, 256, 14, 14]      512.0   \n",
      "79_model.layer3.4.ReLU_relu                  [1, 256, 14, 14]          -   \n",
      "80_model.layer3.5.Conv2d_conv1               [1, 256, 14, 14]   589.824k   \n",
      "81_model.layer3.5.BatchNorm2d_bn1            [1, 256, 14, 14]      512.0   \n",
      "82_model.layer3.5.ReLU_relu                  [1, 256, 14, 14]          -   \n",
      "83_model.layer3.5.Conv2d_conv2               [1, 256, 14, 14]   589.824k   \n",
      "84_model.layer3.5.BatchNorm2d_bn2            [1, 256, 14, 14]      512.0   \n",
      "85_model.layer3.5.ReLU_relu                  [1, 256, 14, 14]          -   \n",
      "86_model.layer4.0.Conv2d_conv1                 [1, 512, 7, 7]  1.179648M   \n",
      "87_model.layer4.0.BatchNorm2d_bn1              [1, 512, 7, 7]     1.024k   \n",
      "88_model.layer4.0.ReLU_relu                    [1, 512, 7, 7]          -   \n",
      "89_model.layer4.0.Conv2d_conv2                 [1, 512, 7, 7]  2.359296M   \n",
      "90_model.layer4.0.BatchNorm2d_bn2              [1, 512, 7, 7]     1.024k   \n",
      "91_model.layer4.0.downsample.Conv2d_0          [1, 512, 7, 7]   131.072k   \n",
      "92_model.layer4.0.downsample.BatchNorm2d_1     [1, 512, 7, 7]     1.024k   \n",
      "93_model.layer4.0.ReLU_relu                    [1, 512, 7, 7]          -   \n",
      "94_model.layer4.1.Conv2d_conv1                 [1, 512, 7, 7]  2.359296M   \n",
      "95_model.layer4.1.BatchNorm2d_bn1              [1, 512, 7, 7]     1.024k   \n",
      "96_model.layer4.1.ReLU_relu                    [1, 512, 7, 7]          -   \n",
      "97_model.layer4.1.Conv2d_conv2                 [1, 512, 7, 7]  2.359296M   \n",
      "98_model.layer4.1.BatchNorm2d_bn2              [1, 512, 7, 7]     1.024k   \n",
      "99_model.layer4.1.ReLU_relu                    [1, 512, 7, 7]          -   \n",
      "100_model.layer4.2.Conv2d_conv1                [1, 512, 7, 7]  2.359296M   \n",
      "101_model.layer4.2.BatchNorm2d_bn1             [1, 512, 7, 7]     1.024k   \n",
      "102_model.layer4.2.ReLU_relu                   [1, 512, 7, 7]          -   \n",
      "103_model.layer4.2.Conv2d_conv2                [1, 512, 7, 7]  2.359296M   \n",
      "104_model.layer4.2.BatchNorm2d_bn2             [1, 512, 7, 7]     1.024k   \n",
      "105_model.layer4.2.ReLU_relu                   [1, 512, 7, 7]          -   \n",
      "106_model.AdaptiveAvgPool2d_avgpool            [1, 512, 1, 1]          -   \n",
      "107_model.Linear_fc                                   [1, 12]     6.156k   \n",
      "\n",
      "                                              Mult-Adds  \n",
      "Layer                                                    \n",
      "0_model.Conv2d_conv1                        118.013952M  \n",
      "1_model.BatchNorm2d_bn1                            64.0  \n",
      "2_model.ReLU_relu                                     -  \n",
      "3_model.MaxPool2d_maxpool                             -  \n",
      "4_model.layer1.0.Conv2d_conv1               115.605504M  \n",
      "5_model.layer1.0.BatchNorm2d_bn1                   64.0  \n",
      "6_model.layer1.0.ReLU_relu                            -  \n",
      "7_model.layer1.0.Conv2d_conv2               115.605504M  \n",
      "8_model.layer1.0.BatchNorm2d_bn2                   64.0  \n",
      "9_model.layer1.0.ReLU_relu                            -  \n",
      "10_model.layer1.1.Conv2d_conv1              115.605504M  \n",
      "11_model.layer1.1.BatchNorm2d_bn1                  64.0  \n",
      "12_model.layer1.1.ReLU_relu                           -  \n",
      "13_model.layer1.1.Conv2d_conv2              115.605504M  \n",
      "14_model.layer1.1.BatchNorm2d_bn2                  64.0  \n",
      "15_model.layer1.1.ReLU_relu                           -  \n",
      "16_model.layer1.2.Conv2d_conv1              115.605504M  \n",
      "17_model.layer1.2.BatchNorm2d_bn1                  64.0  \n",
      "18_model.layer1.2.ReLU_relu                           -  \n",
      "19_model.layer1.2.Conv2d_conv2              115.605504M  \n",
      "20_model.layer1.2.BatchNorm2d_bn2                  64.0  \n",
      "21_model.layer1.2.ReLU_relu                           -  \n",
      "22_model.layer2.0.Conv2d_conv1               57.802752M  \n",
      "23_model.layer2.0.BatchNorm2d_bn1                 128.0  \n",
      "24_model.layer2.0.ReLU_relu                           -  \n",
      "25_model.layer2.0.Conv2d_conv2              115.605504M  \n",
      "26_model.layer2.0.BatchNorm2d_bn2                 128.0  \n",
      "27_model.layer2.0.downsample.Conv2d_0         6.422528M  \n",
      "28_model.layer2.0.downsample.BatchNorm2d_1        128.0  \n",
      "29_model.layer2.0.ReLU_relu                           -  \n",
      "30_model.layer2.1.Conv2d_conv1              115.605504M  \n",
      "31_model.layer2.1.BatchNorm2d_bn1                 128.0  \n",
      "32_model.layer2.1.ReLU_relu                           -  \n",
      "33_model.layer2.1.Conv2d_conv2              115.605504M  \n",
      "34_model.layer2.1.BatchNorm2d_bn2                 128.0  \n",
      "35_model.layer2.1.ReLU_relu                           -  \n",
      "36_model.layer2.2.Conv2d_conv1              115.605504M  \n",
      "37_model.layer2.2.BatchNorm2d_bn1                 128.0  \n",
      "38_model.layer2.2.ReLU_relu                           -  \n",
      "39_model.layer2.2.Conv2d_conv2              115.605504M  \n",
      "40_model.layer2.2.BatchNorm2d_bn2                 128.0  \n",
      "41_model.layer2.2.ReLU_relu                           -  \n",
      "42_model.layer2.3.Conv2d_conv1              115.605504M  \n",
      "43_model.layer2.3.BatchNorm2d_bn1                 128.0  \n",
      "44_model.layer2.3.ReLU_relu                           -  \n",
      "45_model.layer2.3.Conv2d_conv2              115.605504M  \n",
      "46_model.layer2.3.BatchNorm2d_bn2                 128.0  \n",
      "47_model.layer2.3.ReLU_relu                           -  \n",
      "48_model.layer3.0.Conv2d_conv1               57.802752M  \n",
      "49_model.layer3.0.BatchNorm2d_bn1                 256.0  \n",
      "50_model.layer3.0.ReLU_relu                           -  \n",
      "51_model.layer3.0.Conv2d_conv2              115.605504M  \n",
      "52_model.layer3.0.BatchNorm2d_bn2                 256.0  \n",
      "53_model.layer3.0.downsample.Conv2d_0         6.422528M  \n",
      "54_model.layer3.0.downsample.BatchNorm2d_1        256.0  \n",
      "55_model.layer3.0.ReLU_relu                           -  \n",
      "56_model.layer3.1.Conv2d_conv1              115.605504M  \n",
      "57_model.layer3.1.BatchNorm2d_bn1                 256.0  \n",
      "58_model.layer3.1.ReLU_relu                           -  \n",
      "59_model.layer3.1.Conv2d_conv2              115.605504M  \n",
      "60_model.layer3.1.BatchNorm2d_bn2                 256.0  \n",
      "61_model.layer3.1.ReLU_relu                           -  \n",
      "62_model.layer3.2.Conv2d_conv1              115.605504M  \n",
      "63_model.layer3.2.BatchNorm2d_bn1                 256.0  \n",
      "64_model.layer3.2.ReLU_relu                           -  \n",
      "65_model.layer3.2.Conv2d_conv2              115.605504M  \n",
      "66_model.layer3.2.BatchNorm2d_bn2                 256.0  \n",
      "67_model.layer3.2.ReLU_relu                           -  \n",
      "68_model.layer3.3.Conv2d_conv1              115.605504M  \n",
      "69_model.layer3.3.BatchNorm2d_bn1                 256.0  \n",
      "70_model.layer3.3.ReLU_relu                           -  \n",
      "71_model.layer3.3.Conv2d_conv2              115.605504M  \n",
      "72_model.layer3.3.BatchNorm2d_bn2                 256.0  \n",
      "73_model.layer3.3.ReLU_relu                           -  \n",
      "74_model.layer3.4.Conv2d_conv1              115.605504M  \n",
      "75_model.layer3.4.BatchNorm2d_bn1                 256.0  \n",
      "76_model.layer3.4.ReLU_relu                           -  \n",
      "77_model.layer3.4.Conv2d_conv2              115.605504M  \n",
      "78_model.layer3.4.BatchNorm2d_bn2                 256.0  \n",
      "79_model.layer3.4.ReLU_relu                           -  \n",
      "80_model.layer3.5.Conv2d_conv1              115.605504M  \n",
      "81_model.layer3.5.BatchNorm2d_bn1                 256.0  \n",
      "82_model.layer3.5.ReLU_relu                           -  \n",
      "83_model.layer3.5.Conv2d_conv2              115.605504M  \n",
      "84_model.layer3.5.BatchNorm2d_bn2                 256.0  \n",
      "85_model.layer3.5.ReLU_relu                           -  \n",
      "86_model.layer4.0.Conv2d_conv1               57.802752M  \n",
      "87_model.layer4.0.BatchNorm2d_bn1                 512.0  \n",
      "88_model.layer4.0.ReLU_relu                           -  \n",
      "89_model.layer4.0.Conv2d_conv2              115.605504M  \n",
      "90_model.layer4.0.BatchNorm2d_bn2                 512.0  \n",
      "91_model.layer4.0.downsample.Conv2d_0         6.422528M  \n",
      "92_model.layer4.0.downsample.BatchNorm2d_1        512.0  \n",
      "93_model.layer4.0.ReLU_relu                           -  \n",
      "94_model.layer4.1.Conv2d_conv1              115.605504M  \n",
      "95_model.layer4.1.BatchNorm2d_bn1                 512.0  \n",
      "96_model.layer4.1.ReLU_relu                           -  \n",
      "97_model.layer4.1.Conv2d_conv2              115.605504M  \n",
      "98_model.layer4.1.BatchNorm2d_bn2                 512.0  \n",
      "99_model.layer4.1.ReLU_relu                           -  \n",
      "100_model.layer4.2.Conv2d_conv1             115.605504M  \n",
      "101_model.layer4.2.BatchNorm2d_bn1                512.0  \n",
      "102_model.layer4.2.ReLU_relu                          -  \n",
      "103_model.layer4.2.Conv2d_conv2             115.605504M  \n",
      "104_model.layer4.2.BatchNorm2d_bn2                512.0  \n",
      "105_model.layer4.2.ReLU_relu                          -  \n",
      "106_model.AdaptiveAvgPool2d_avgpool                   -  \n",
      "107_model.Linear_fc                              6.144k  \n",
      "-------------------------------------------------------------------------------------------------------\n",
      "                            Totals\n",
      "Total params            21.290828M\n",
      "Trainable params        21.290828M\n",
      "Non-trainable params           0.0\n",
      "Mult-Adds             3.663264064G\n",
      "=======================================================================================================\n"
     ]
    },
    {
     "data": {
      "text/html": [
       "<div>\n",
       "<style scoped>\n",
       "    .dataframe tbody tr th:only-of-type {\n",
       "        vertical-align: middle;\n",
       "    }\n",
       "\n",
       "    .dataframe tbody tr th {\n",
       "        vertical-align: top;\n",
       "    }\n",
       "\n",
       "    .dataframe thead th {\n",
       "        text-align: right;\n",
       "    }\n",
       "</style>\n",
       "<table border=\"1\" class=\"dataframe\">\n",
       "  <thead>\n",
       "    <tr style=\"text-align: right;\">\n",
       "      <th></th>\n",
       "      <th>Kernel Shape</th>\n",
       "      <th>Output Shape</th>\n",
       "      <th>Params</th>\n",
       "      <th>Mult-Adds</th>\n",
       "    </tr>\n",
       "    <tr>\n",
       "      <th>Layer</th>\n",
       "      <th></th>\n",
       "      <th></th>\n",
       "      <th></th>\n",
       "      <th></th>\n",
       "    </tr>\n",
       "  </thead>\n",
       "  <tbody>\n",
       "    <tr>\n",
       "      <th>0_model.Conv2d_conv1</th>\n",
       "      <td>[3, 64, 7, 7]</td>\n",
       "      <td>[1, 64, 112, 112]</td>\n",
       "      <td>9408.0</td>\n",
       "      <td>118013952.0</td>\n",
       "    </tr>\n",
       "    <tr>\n",
       "      <th>1_model.BatchNorm2d_bn1</th>\n",
       "      <td>[64]</td>\n",
       "      <td>[1, 64, 112, 112]</td>\n",
       "      <td>128.0</td>\n",
       "      <td>64.0</td>\n",
       "    </tr>\n",
       "    <tr>\n",
       "      <th>2_model.ReLU_relu</th>\n",
       "      <td>-</td>\n",
       "      <td>[1, 64, 112, 112]</td>\n",
       "      <td>NaN</td>\n",
       "      <td>NaN</td>\n",
       "    </tr>\n",
       "    <tr>\n",
       "      <th>3_model.MaxPool2d_maxpool</th>\n",
       "      <td>-</td>\n",
       "      <td>[1, 64, 56, 56]</td>\n",
       "      <td>NaN</td>\n",
       "      <td>NaN</td>\n",
       "    </tr>\n",
       "    <tr>\n",
       "      <th>4_model.layer1.0.Conv2d_conv1</th>\n",
       "      <td>[64, 64, 3, 3]</td>\n",
       "      <td>[1, 64, 56, 56]</td>\n",
       "      <td>36864.0</td>\n",
       "      <td>115605504.0</td>\n",
       "    </tr>\n",
       "    <tr>\n",
       "      <th>...</th>\n",
       "      <td>...</td>\n",
       "      <td>...</td>\n",
       "      <td>...</td>\n",
       "      <td>...</td>\n",
       "    </tr>\n",
       "    <tr>\n",
       "      <th>103_model.layer4.2.Conv2d_conv2</th>\n",
       "      <td>[512, 512, 3, 3]</td>\n",
       "      <td>[1, 512, 7, 7]</td>\n",
       "      <td>2359296.0</td>\n",
       "      <td>115605504.0</td>\n",
       "    </tr>\n",
       "    <tr>\n",
       "      <th>104_model.layer4.2.BatchNorm2d_bn2</th>\n",
       "      <td>[512]</td>\n",
       "      <td>[1, 512, 7, 7]</td>\n",
       "      <td>1024.0</td>\n",
       "      <td>512.0</td>\n",
       "    </tr>\n",
       "    <tr>\n",
       "      <th>105_model.layer4.2.ReLU_relu</th>\n",
       "      <td>-</td>\n",
       "      <td>[1, 512, 7, 7]</td>\n",
       "      <td>NaN</td>\n",
       "      <td>NaN</td>\n",
       "    </tr>\n",
       "    <tr>\n",
       "      <th>106_model.AdaptiveAvgPool2d_avgpool</th>\n",
       "      <td>-</td>\n",
       "      <td>[1, 512, 1, 1]</td>\n",
       "      <td>NaN</td>\n",
       "      <td>NaN</td>\n",
       "    </tr>\n",
       "    <tr>\n",
       "      <th>107_model.Linear_fc</th>\n",
       "      <td>[512, 12]</td>\n",
       "      <td>[1, 12]</td>\n",
       "      <td>6156.0</td>\n",
       "      <td>6144.0</td>\n",
       "    </tr>\n",
       "  </tbody>\n",
       "</table>\n",
       "<p>108 rows × 4 columns</p>\n",
       "</div>"
      ],
      "text/plain": [
       "                                         Kernel Shape       Output Shape  \\\n",
       "Layer                                                                      \n",
       "0_model.Conv2d_conv1                    [3, 64, 7, 7]  [1, 64, 112, 112]   \n",
       "1_model.BatchNorm2d_bn1                          [64]  [1, 64, 112, 112]   \n",
       "2_model.ReLU_relu                                   -  [1, 64, 112, 112]   \n",
       "3_model.MaxPool2d_maxpool                           -    [1, 64, 56, 56]   \n",
       "4_model.layer1.0.Conv2d_conv1          [64, 64, 3, 3]    [1, 64, 56, 56]   \n",
       "...                                               ...                ...   \n",
       "103_model.layer4.2.Conv2d_conv2      [512, 512, 3, 3]     [1, 512, 7, 7]   \n",
       "104_model.layer4.2.BatchNorm2d_bn2              [512]     [1, 512, 7, 7]   \n",
       "105_model.layer4.2.ReLU_relu                        -     [1, 512, 7, 7]   \n",
       "106_model.AdaptiveAvgPool2d_avgpool                 -     [1, 512, 1, 1]   \n",
       "107_model.Linear_fc                         [512, 12]            [1, 12]   \n",
       "\n",
       "                                        Params    Mult-Adds  \n",
       "Layer                                                        \n",
       "0_model.Conv2d_conv1                    9408.0  118013952.0  \n",
       "1_model.BatchNorm2d_bn1                  128.0         64.0  \n",
       "2_model.ReLU_relu                          NaN          NaN  \n",
       "3_model.MaxPool2d_maxpool                  NaN          NaN  \n",
       "4_model.layer1.0.Conv2d_conv1          36864.0  115605504.0  \n",
       "...                                        ...          ...  \n",
       "103_model.layer4.2.Conv2d_conv2      2359296.0  115605504.0  \n",
       "104_model.layer4.2.BatchNorm2d_bn2      1024.0        512.0  \n",
       "105_model.layer4.2.ReLU_relu               NaN          NaN  \n",
       "106_model.AdaptiveAvgPool2d_avgpool        NaN          NaN  \n",
       "107_model.Linear_fc                     6156.0       6144.0  \n",
       "\n",
       "[108 rows x 4 columns]"
      ]
     },
     "execution_count": 57,
     "metadata": {},
     "output_type": "execute_result"
    }
   ],
   "source": [
    "import torch.nn as nn\n",
    "from torch.optim import Adam\n",
    "from torchvision.models import resnet34\n",
    "from torchsummaryX import summary\n",
    "\n",
    "class resnet(nn.Module) :\n",
    "    def __init__(self, output) :\n",
    "        super().__init__()\n",
    "        self.model = resnet34(pretrained=False) #use resnet\n",
    "        self.model.fc = torch.nn.Linear(512, output) #change the last FC layer\n",
    "        \n",
    "    def forward(self, x) :\n",
    "        output = self.model(x)\n",
    "        return output\n",
    "\n",
    "model = resnet(classes).to(device)\n",
    "criterion = nn.CrossEntropyLoss().to(device)\n",
    "optimizer = torch.optim.Adam(model.parameters(), lr = 0.01)\n",
    "\n",
    "summary(model, torch.rand((1, 3, 224, 224)).float().to(device))"
   ]
  },
  {
   "cell_type": "code",
   "execution_count": 58,
   "metadata": {},
   "outputs": [
    {
     "name": "stdout",
     "output_type": "stream",
     "text": [
      "batchs :  583\n"
     ]
    },
    {
     "data": {
      "application/vnd.jupyter.widget-view+json": {
       "model_id": "b7ddf1b880ba46e18a7dfef60a63259d",
       "version_major": 2,
       "version_minor": 0
      },
      "text/plain": [
       "0it [00:00, ?it/s]"
      ]
     },
     "metadata": {},
     "output_type": "display_data"
    },
    {
     "name": "stdout",
     "output_type": "stream",
     "text": [
      "Epoch : 1/30,   loss : 1.80108,    acc : 0.16970\n"
     ]
    },
    {
     "data": {
      "application/vnd.jupyter.widget-view+json": {
       "model_id": "3e0b54239ff84a158949bd1360731e50",
       "version_major": 2,
       "version_minor": 0
      },
      "text/plain": [
       "0it [00:00, ?it/s]"
      ]
     },
     "metadata": {},
     "output_type": "display_data"
    },
    {
     "name": "stdout",
     "output_type": "stream",
     "text": [
      "Epoch : 2/30,   loss : 1.52560,    acc : 0.21765\n"
     ]
    },
    {
     "data": {
      "application/vnd.jupyter.widget-view+json": {
       "model_id": "1b1ed501ba1d4c7faf6d43070ae36be4",
       "version_major": 2,
       "version_minor": 0
      },
      "text/plain": [
       "0it [00:00, ?it/s]"
      ]
     },
     "metadata": {},
     "output_type": "display_data"
    },
    {
     "name": "stdout",
     "output_type": "stream",
     "text": [
      "Epoch : 3/30,   loss : 1.16260,    acc : 0.29082\n"
     ]
    },
    {
     "data": {
      "application/vnd.jupyter.widget-view+json": {
       "model_id": "7e84269d4a914c5d9e6dae6876b0f255",
       "version_major": 2,
       "version_minor": 0
      },
      "text/plain": [
       "0it [00:00, ?it/s]"
      ]
     },
     "metadata": {},
     "output_type": "display_data"
    },
    {
     "name": "stdout",
     "output_type": "stream",
     "text": [
      "Epoch : 4/30,   loss : 0.90139,    acc : 0.34587\n"
     ]
    },
    {
     "data": {
      "application/vnd.jupyter.widget-view+json": {
       "model_id": "4436dfdfddb3498eb58ac2527f30ad33",
       "version_major": 2,
       "version_minor": 0
      },
      "text/plain": [
       "0it [00:00, ?it/s]"
      ]
     },
     "metadata": {},
     "output_type": "display_data"
    },
    {
     "name": "stdout",
     "output_type": "stream",
     "text": [
      "Epoch : 5/30,   loss : 0.74490,    acc : 0.37934\n"
     ]
    },
    {
     "data": {
      "application/vnd.jupyter.widget-view+json": {
       "model_id": "9e055802019740848ca9689c415bc2f2",
       "version_major": 2,
       "version_minor": 0
      },
      "text/plain": [
       "0it [00:00, ?it/s]"
      ]
     },
     "metadata": {},
     "output_type": "display_data"
    },
    {
     "name": "stdout",
     "output_type": "stream",
     "text": [
      "Epoch : 6/30,   loss : 0.65545,    acc : 0.39400\n"
     ]
    },
    {
     "data": {
      "application/vnd.jupyter.widget-view+json": {
       "model_id": "198919df6b854a1cbeb918084add919d",
       "version_major": 2,
       "version_minor": 0
      },
      "text/plain": [
       "0it [00:00, ?it/s]"
      ]
     },
     "metadata": {},
     "output_type": "display_data"
    },
    {
     "name": "stdout",
     "output_type": "stream",
     "text": [
      "Epoch : 7/30,   loss : 0.59285,    acc : 0.40472\n"
     ]
    },
    {
     "data": {
      "application/vnd.jupyter.widget-view+json": {
       "model_id": "268202e9e94241d6b736d4152de5f549",
       "version_major": 2,
       "version_minor": 0
      },
      "text/plain": [
       "0it [00:00, ?it/s]"
      ]
     },
     "metadata": {},
     "output_type": "display_data"
    },
    {
     "name": "stdout",
     "output_type": "stream",
     "text": [
      "Epoch : 8/30,   loss : 0.53841,    acc : 0.41284\n"
     ]
    },
    {
     "data": {
      "application/vnd.jupyter.widget-view+json": {
       "model_id": "c73d1e2905e64592ad93d7bacb6a9fbf",
       "version_major": 2,
       "version_minor": 0
      },
      "text/plain": [
       "0it [00:00, ?it/s]"
      ]
     },
     "metadata": {},
     "output_type": "display_data"
    },
    {
     "name": "stdout",
     "output_type": "stream",
     "text": [
      "Epoch : 9/30,   loss : 0.50656,    acc : 0.41729\n"
     ]
    },
    {
     "data": {
      "application/vnd.jupyter.widget-view+json": {
       "model_id": "55830ddadcd34c578197064594781882",
       "version_major": 2,
       "version_minor": 0
      },
      "text/plain": [
       "0it [00:00, ?it/s]"
      ]
     },
     "metadata": {},
     "output_type": "display_data"
    },
    {
     "name": "stdout",
     "output_type": "stream",
     "text": [
      "Epoch : 10/30,   loss : 0.47807,    acc : 0.42287\n"
     ]
    },
    {
     "data": {
      "application/vnd.jupyter.widget-view+json": {
       "model_id": "cce57b8940aa41d8b4f3ad64ac9c565b",
       "version_major": 2,
       "version_minor": 0
      },
      "text/plain": [
       "0it [00:00, ?it/s]"
      ]
     },
     "metadata": {},
     "output_type": "display_data"
    },
    {
     "name": "stdout",
     "output_type": "stream",
     "text": [
      "Epoch : 11/30,   loss : 0.45037,    acc : 0.42571\n"
     ]
    },
    {
     "data": {
      "application/vnd.jupyter.widget-view+json": {
       "model_id": "3ffde7c7dbe54511857491c3e15f8bff",
       "version_major": 2,
       "version_minor": 0
      },
      "text/plain": [
       "0it [00:00, ?it/s]"
      ]
     },
     "metadata": {},
     "output_type": "display_data"
    },
    {
     "name": "stdout",
     "output_type": "stream",
     "text": [
      "Epoch : 12/30,   loss : 0.42459,    acc : 0.43000\n"
     ]
    },
    {
     "data": {
      "application/vnd.jupyter.widget-view+json": {
       "model_id": "a02426a0619c481898d213930287882f",
       "version_major": 2,
       "version_minor": 0
      },
      "text/plain": [
       "0it [00:00, ?it/s]"
      ]
     },
     "metadata": {},
     "output_type": "display_data"
    },
    {
     "name": "stdout",
     "output_type": "stream",
     "text": [
      "Epoch : 13/30,   loss : 0.39887,    acc : 0.43260\n"
     ]
    },
    {
     "data": {
      "application/vnd.jupyter.widget-view+json": {
       "model_id": "be3975c76fda4a2393b08670e9a0947d",
       "version_major": 2,
       "version_minor": 0
      },
      "text/plain": [
       "0it [00:00, ?it/s]"
      ]
     },
     "metadata": {},
     "output_type": "display_data"
    },
    {
     "name": "stdout",
     "output_type": "stream",
     "text": [
      "Epoch : 14/30,   loss : 0.36524,    acc : 0.43822\n"
     ]
    },
    {
     "data": {
      "application/vnd.jupyter.widget-view+json": {
       "model_id": "b531772a68de4a848338db28dc7cb164",
       "version_major": 2,
       "version_minor": 0
      },
      "text/plain": [
       "0it [00:00, ?it/s]"
      ]
     },
     "metadata": {},
     "output_type": "display_data"
    },
    {
     "name": "stdout",
     "output_type": "stream",
     "text": [
      "Epoch : 15/30,   loss : 0.33710,    acc : 0.44214\n"
     ]
    },
    {
     "data": {
      "application/vnd.jupyter.widget-view+json": {
       "model_id": "0795d32645094f4b8e5c7eced3f1356c",
       "version_major": 2,
       "version_minor": 0
      },
      "text/plain": [
       "0it [00:00, ?it/s]"
      ]
     },
     "metadata": {},
     "output_type": "display_data"
    },
    {
     "name": "stdout",
     "output_type": "stream",
     "text": [
      "Epoch : 16/30,   loss : 0.31363,    acc : 0.44584\n"
     ]
    },
    {
     "data": {
      "application/vnd.jupyter.widget-view+json": {
       "model_id": "cb3d721c25f54fdba6162b0838c4b2b2",
       "version_major": 2,
       "version_minor": 0
      },
      "text/plain": [
       "0it [00:00, ?it/s]"
      ]
     },
     "metadata": {},
     "output_type": "display_data"
    },
    {
     "name": "stdout",
     "output_type": "stream",
     "text": [
      "Epoch : 17/30,   loss : 0.27073,    acc : 0.45256\n"
     ]
    },
    {
     "data": {
      "application/vnd.jupyter.widget-view+json": {
       "model_id": "4f6aac693e394a9e93579d37a0bcd402",
       "version_major": 2,
       "version_minor": 0
      },
      "text/plain": [
       "0it [00:00, ?it/s]"
      ]
     },
     "metadata": {},
     "output_type": "display_data"
    },
    {
     "name": "stdout",
     "output_type": "stream",
     "text": [
      "Epoch : 18/30,   loss : 0.22443,    acc : 0.46007\n"
     ]
    },
    {
     "data": {
      "application/vnd.jupyter.widget-view+json": {
       "model_id": "aa020644524a46b08b4a0967bb5c845f",
       "version_major": 2,
       "version_minor": 0
      },
      "text/plain": [
       "0it [00:00, ?it/s]"
      ]
     },
     "metadata": {},
     "output_type": "display_data"
    },
    {
     "name": "stdout",
     "output_type": "stream",
     "text": [
      "Epoch : 19/30,   loss : 0.19401,    acc : 0.46607\n"
     ]
    },
    {
     "data": {
      "application/vnd.jupyter.widget-view+json": {
       "model_id": "a2d5bad17d8d4ad890b85cfc26a062fa",
       "version_major": 2,
       "version_minor": 0
      },
      "text/plain": [
       "0it [00:00, ?it/s]"
      ]
     },
     "metadata": {},
     "output_type": "display_data"
    },
    {
     "name": "stdout",
     "output_type": "stream",
     "text": [
      "Epoch : 20/30,   loss : 0.15377,    acc : 0.47269\n"
     ]
    },
    {
     "data": {
      "application/vnd.jupyter.widget-view+json": {
       "model_id": "1e712e78168d4e45a4bee97aea4c929f",
       "version_major": 2,
       "version_minor": 0
      },
      "text/plain": [
       "0it [00:00, ?it/s]"
      ]
     },
     "metadata": {},
     "output_type": "display_data"
    },
    {
     "name": "stdout",
     "output_type": "stream",
     "text": [
      "Epoch : 21/30,   loss : 0.11455,    acc : 0.47982\n"
     ]
    },
    {
     "data": {
      "application/vnd.jupyter.widget-view+json": {
       "model_id": "47ffd08ee90d49fdac0d59850f78e326",
       "version_major": 2,
       "version_minor": 0
      },
      "text/plain": [
       "0it [00:00, ?it/s]"
      ]
     },
     "metadata": {},
     "output_type": "display_data"
    },
    {
     "name": "stdout",
     "output_type": "stream",
     "text": [
      "Epoch : 22/30,   loss : 0.10448,    acc : 0.48153\n"
     ]
    },
    {
     "data": {
      "application/vnd.jupyter.widget-view+json": {
       "model_id": "a29741a7c3754dbb9f37136d851430e9",
       "version_major": 2,
       "version_minor": 0
      },
      "text/plain": [
       "0it [00:00, ?it/s]"
      ]
     },
     "metadata": {},
     "output_type": "display_data"
    },
    {
     "name": "stdout",
     "output_type": "stream",
     "text": [
      "Epoch : 23/30,   loss : 0.08603,    acc : 0.48572\n"
     ]
    },
    {
     "data": {
      "application/vnd.jupyter.widget-view+json": {
       "model_id": "72bd85a72cba4d4c825780ba90838c83",
       "version_major": 2,
       "version_minor": 0
      },
      "text/plain": [
       "0it [00:00, ?it/s]"
      ]
     },
     "metadata": {},
     "output_type": "display_data"
    },
    {
     "name": "stdout",
     "output_type": "stream",
     "text": [
      "Epoch : 24/30,   loss : 0.08129,    acc : 0.48566\n"
     ]
    },
    {
     "data": {
      "application/vnd.jupyter.widget-view+json": {
       "model_id": "a15dd5f635d845178eca0a6cfcf16b92",
       "version_major": 2,
       "version_minor": 0
      },
      "text/plain": [
       "0it [00:00, ?it/s]"
      ]
     },
     "metadata": {},
     "output_type": "display_data"
    },
    {
     "name": "stdout",
     "output_type": "stream",
     "text": [
      "Epoch : 25/30,   loss : 0.05451,    acc : 0.49030\n"
     ]
    },
    {
     "data": {
      "application/vnd.jupyter.widget-view+json": {
       "model_id": "c74f3bc6d2e44d7ebb768f2b97f0d36d",
       "version_major": 2,
       "version_minor": 0
      },
      "text/plain": [
       "0it [00:00, ?it/s]"
      ]
     },
     "metadata": {},
     "output_type": "display_data"
    },
    {
     "name": "stdout",
     "output_type": "stream",
     "text": [
      "Epoch : 26/30,   loss : 0.05394,    acc : 0.49046\n"
     ]
    },
    {
     "data": {
      "application/vnd.jupyter.widget-view+json": {
       "model_id": "a9d0ce51aa314ed0bae198bbb6e7e5ac",
       "version_major": 2,
       "version_minor": 0
      },
      "text/plain": [
       "0it [00:00, ?it/s]"
      ]
     },
     "metadata": {},
     "output_type": "display_data"
    },
    {
     "name": "stdout",
     "output_type": "stream",
     "text": [
      "Epoch : 27/30,   loss : 0.06880,    acc : 0.48773\n"
     ]
    },
    {
     "data": {
      "application/vnd.jupyter.widget-view+json": {
       "model_id": "343f578b06554030a9d0f0359dcf8ede",
       "version_major": 2,
       "version_minor": 0
      },
      "text/plain": [
       "0it [00:00, ?it/s]"
      ]
     },
     "metadata": {},
     "output_type": "display_data"
    },
    {
     "name": "stdout",
     "output_type": "stream",
     "text": [
      "Epoch : 28/30,   loss : 0.04382,    acc : 0.49266\n"
     ]
    },
    {
     "data": {
      "application/vnd.jupyter.widget-view+json": {
       "model_id": "4929a2e65a4b4c65877e1a50bb1302ff",
       "version_major": 2,
       "version_minor": 0
      },
      "text/plain": [
       "0it [00:00, ?it/s]"
      ]
     },
     "metadata": {},
     "output_type": "display_data"
    },
    {
     "name": "stdout",
     "output_type": "stream",
     "text": [
      "Epoch : 29/30,   loss : 0.05466,    acc : 0.48957\n"
     ]
    },
    {
     "data": {
      "application/vnd.jupyter.widget-view+json": {
       "model_id": "141c9a72912b4332b3fc0900117b464e",
       "version_major": 2,
       "version_minor": 0
      },
      "text/plain": [
       "0it [00:00, ?it/s]"
      ]
     },
     "metadata": {},
     "output_type": "display_data"
    },
    {
     "name": "stdout",
     "output_type": "stream",
     "text": [
      "Epoch : 30/30,   loss : 0.05227,    acc : 0.49057\n"
     ]
    }
   ],
   "source": [
    "n_epoch = 30\n",
    "torch.cuda.empty_cache()\n",
    "\n",
    "model = model.train()\n",
    "print('batchs : ', len(train_data))\n",
    "\n",
    "for epoch in range(n_epoch) :\n",
    "    epoch_loss = 0\n",
    "    epoch_acc = 0\n",
    "    for i, (x, y) in tqdm(enumerate(train_data)) :\n",
    "        y = y.reshape(-1)\n",
    "        \n",
    "        predict = model(x)\n",
    "        loss = criterion(predict, y)\n",
    "        \n",
    "        epoch_loss += loss / len(train_data)\n",
    "        correct_prediction = torch.argmax(predict, 1) == y\n",
    "        correct_prediction = correct_prediction.sum()\n",
    "        epoch_acc += correct_prediction\n",
    "        \n",
    "        optimizer.zero_grad()\n",
    "        loss.backward()\n",
    "        optimizer.step()\n",
    "        \n",
    "    epoch_acc = epoch_acc / (64 * len(train_data))\n",
    "    print('Epoch : {}/{},   loss : {:.5f},    acc : {:.5f}'.format(epoch+1, n_epoch, epoch_loss, epoch_acc))\n",
    "    \n",
    "    if epoch_acc > 0.98 : break"
   ]
  },
  {
   "cell_type": "code",
   "execution_count": 59,
   "metadata": {},
   "outputs": [
    {
     "data": {
      "application/vnd.jupyter.widget-view+json": {
       "model_id": "b6cd164ad16049a8bf7bea87a24a6ec0",
       "version_major": 2,
       "version_minor": 0
      },
      "text/plain": [
       "0it [00:00, ?it/s]"
      ]
     },
     "metadata": {},
     "output_type": "display_data"
    },
    {
     "name": "stdout",
     "output_type": "stream",
     "text": [
      "['85f8cb619c66b863.jpg' 'ad8770db05586b59.jpg' 'c7b03e718489f3ca.jpg']\n"
     ]
    },
    {
     "data": {
      "text/html": [
       "<div>\n",
       "<style scoped>\n",
       "    .dataframe tbody tr th:only-of-type {\n",
       "        vertical-align: middle;\n",
       "    }\n",
       "\n",
       "    .dataframe tbody tr th {\n",
       "        vertical-align: top;\n",
       "    }\n",
       "\n",
       "    .dataframe thead th {\n",
       "        text-align: right;\n",
       "    }\n",
       "</style>\n",
       "<table border=\"1\" class=\"dataframe\">\n",
       "  <thead>\n",
       "    <tr style=\"text-align: right;\">\n",
       "      <th></th>\n",
       "      <th>image</th>\n",
       "      <th>label</th>\n",
       "    </tr>\n",
       "  </thead>\n",
       "  <tbody>\n",
       "    <tr>\n",
       "      <th>0</th>\n",
       "      <td>85f8cb619c66b863.jpg</td>\n",
       "      <td>complex</td>\n",
       "    </tr>\n",
       "    <tr>\n",
       "      <th>1</th>\n",
       "      <td>ad8770db05586b59.jpg</td>\n",
       "      <td>complex</td>\n",
       "    </tr>\n",
       "    <tr>\n",
       "      <th>2</th>\n",
       "      <td>c7b03e718489f3ca.jpg</td>\n",
       "      <td>cider_apple_rust</td>\n",
       "    </tr>\n",
       "  </tbody>\n",
       "</table>\n",
       "</div>"
      ],
      "text/plain": [
       "                  image             label\n",
       "0  85f8cb619c66b863.jpg           complex\n",
       "1  ad8770db05586b59.jpg           complex\n",
       "2  c7b03e718489f3ca.jpg  cider_apple_rust"
      ]
     },
     "execution_count": 59,
     "metadata": {},
     "output_type": "execute_result"
    }
   ],
   "source": [
    "valid_image_list = glob('plant-pathology-2021-fgvc8/test_images/*.jpg')\n",
    "\n",
    "\n",
    "#TEN_CROP\n",
    "valid_transform = transforms.Compose([\n",
    "      transforms.ToTensor(),\n",
    "      transforms.Resize(256),\n",
    "      transforms.Normalize((0.5, 0.5, 0.5), (0.5, 0.5, 0.5)),\n",
    "      transforms.TenCrop([224, 224])])\n",
    "\n",
    "model.eval()\n",
    "predict_list = []\n",
    "image_name_list = []\n",
    "for i, image in tqdm(enumerate(valid_image_list)) :\n",
    "    image_name = image[39:]\n",
    "    \n",
    "    img = cv2.imread(image)\n",
    "    img = valid_transform(img)\n",
    "    \n",
    "    result_list = torch.FloatTensor(np.zeros((classes))).to(device)\n",
    "    for j, x in enumerate(img) :\n",
    "        x = x.to(device)\n",
    "        x = x.reshape(-1, 3, 224, 224)\n",
    "        predict = model(x)\n",
    "        predict = predict.reshape(-1)\n",
    "        result_list += predict\n",
    "    \n",
    "    predict_list.append(torch.argmax(result_list).item())\n",
    "    image_name_list.append(image_name)\n",
    "    \n",
    "predict_list = np.array(predict_list)\n",
    "image_name_list = np.array(image_name_list)\n",
    "print(image_name_list)\n",
    "\n",
    "submission_df = pd.DataFrame()\n",
    "submission_df['image'] = image_name_list\n",
    "submission_df['label_id'] = predict_list\n",
    "submission_df['label'] = submission_df['label_id'].map(label_dic)\n",
    "del submission_df['label_id']\n",
    "submission_df.head()"
   ]
  },
  {
   "cell_type": "code",
   "execution_count": 61,
   "metadata": {},
   "outputs": [],
   "source": [
    "submission_df.to_csv(\"submission.csv\", index = False)"
   ]
  }
 ],
 "metadata": {
  "kernelspec": {
   "display_name": "Python 3",
   "language": "python",
   "name": "python3"
  },
  "language_info": {
   "codemirror_mode": {
    "name": "ipython",
    "version": 3
   },
   "file_extension": ".py",
   "mimetype": "text/x-python",
   "name": "python",
   "nbconvert_exporter": "python",
   "pygments_lexer": "ipython3",
   "version": "3.8.5"
  }
 },
 "nbformat": 4,
 "nbformat_minor": 4
}
